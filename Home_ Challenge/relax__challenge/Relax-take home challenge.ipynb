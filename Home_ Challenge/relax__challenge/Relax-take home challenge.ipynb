{
 "cells": [
  {
   "cell_type": "markdown",
   "metadata": {},
   "source": [
    "###                                  Take-Home Challenge: Relax Inc.\n",
    "\n",
    "1)A user table (\"takehome_users\") with data on 12,000 users who signed up for the product in the last two years.\n",
    "This table includes: \n",
    "● name: the user's name \n",
    "● object_id: the user's id \n",
    "● email: email address \n",
    "● creation_source: how their account was created. This takes on one of 5 values: \n",
    "        ○ PERSONAL_PROJECTS: invited to join another user's personal workspace \n",
    "        ○ GUEST_INVITE: invited to an organization as a guest (limited permissions) \n",
    "        ○ ORG_INVITE: invited to an organization (as a full member) \n",
    "        ○ SIGNUP: signed up via the website \n",
    "        ○ SIGNUP_GOOGLE_AUTH: signed up using Google Authentication (using a Google email account for their login id) \n",
    "            \n",
    "● creation_time: when they created their account \n",
    "● last_session_creation_time: unix timestamp of last login \n",
    "● opted_in_to_mailing_list: whether they have opted into receiving marketing emails    \n",
    "● enabled_for_marketing_drip: whether they are on the regular marketing email drip \n",
    "● org_id: the organization (group of users) they belong to \n",
    "● invited_by_user_id: which user invited them to join (if applicable).\n",
    "\n",
    "2)A usage summary table (\"takehome_user_engagement\") that has a row for each day that a user logged into the product.\n",
    "\n",
    "Defining an \"adopted user\" as a user who has logged into the product on three separate days in at least one seven day period.\n",
    "\n",
    "### Problem to be solved\n",
    "\n",
    "Identify which factors predict future user adoption.\n",
    "\n",
    "Steps: We will follow following steps to address this problem,\n",
    "\n",
    "Import the files,\n",
    "Clean and wrangle the data and\n",
    "Identify top factors which will predict future adoption."
   ]
  },
  {
   "cell_type": "code",
   "execution_count": 4,
   "metadata": {},
   "outputs": [],
   "source": [
    "%matplotlib inline\n",
    "import pandas as pd\n",
    "import numpy as np\n",
    "import matplotlib.pyplot as plt\n",
    "import os\n",
    "from os import listdir\n",
    "plt.rcParams['figure.figsize'] = [20,10]\n",
    "\n",
    "import seaborn as sns\n",
    "import scipy.stats as stats\n",
    "import sklearn\n",
    "\n",
    "# special matplotlib argument for improved plots\n",
    "from matplotlib import rcParams\n",
    "sns.set_style(\"whitegrid\")\n",
    "sns.set_context(\"poster\")\n",
    "plt.style.use('ggplot')\n",
    "\n",
    "from IPython.display import Image\n",
    "from IPython.core.display import HTML"
   ]
  },
  {
   "cell_type": "code",
   "execution_count": 10,
   "metadata": {},
   "outputs": [
    {
     "data": {
      "text/plain": [
       "['Relax-take home challenge.ipynb',\n",
       " '.DS_Store',\n",
       " 'takehome_users.csv',\n",
       " 'relax_data_science_challenge.pdf',\n",
       " 'takehome_user_engagement.csv']"
      ]
     },
     "execution_count": 10,
     "metadata": {},
     "output_type": "execute_result"
    }
   ],
   "source": [
    "listdir('./Home_ Challenge/relax__challenge')"
   ]
  },
  {
   "cell_type": "code",
   "execution_count": 11,
   "metadata": {
    "scrolled": true
   },
   "outputs": [],
   "source": [
    "data_engagement=pd.read_csv('./Home_ Challenge/relax__challenge/takehome_user_engagement.csv')\n",
    "takehome_users=pd.read_csv(\"./Home_ Challenge/relax__challenge/takehome_users.csv\",encoding=\"ISO-8859-1\")"
   ]
  },
  {
   "cell_type": "code",
   "execution_count": 12,
   "metadata": {},
   "outputs": [
    {
     "data": {
      "text/html": [
       "<div>\n",
       "<style scoped>\n",
       "    .dataframe tbody tr th:only-of-type {\n",
       "        vertical-align: middle;\n",
       "    }\n",
       "\n",
       "    .dataframe tbody tr th {\n",
       "        vertical-align: top;\n",
       "    }\n",
       "\n",
       "    .dataframe thead th {\n",
       "        text-align: right;\n",
       "    }\n",
       "</style>\n",
       "<table border=\"1\" class=\"dataframe\">\n",
       "  <thead>\n",
       "    <tr style=\"text-align: right;\">\n",
       "      <th></th>\n",
       "      <th>time_stamp</th>\n",
       "      <th>user_id</th>\n",
       "      <th>visited</th>\n",
       "    </tr>\n",
       "  </thead>\n",
       "  <tbody>\n",
       "    <tr>\n",
       "      <th>0</th>\n",
       "      <td>2014-04-22 03:53:30</td>\n",
       "      <td>1</td>\n",
       "      <td>1</td>\n",
       "    </tr>\n",
       "    <tr>\n",
       "      <th>1</th>\n",
       "      <td>2013-11-15 03:45:04</td>\n",
       "      <td>2</td>\n",
       "      <td>1</td>\n",
       "    </tr>\n",
       "    <tr>\n",
       "      <th>2</th>\n",
       "      <td>2013-11-29 03:45:04</td>\n",
       "      <td>2</td>\n",
       "      <td>1</td>\n",
       "    </tr>\n",
       "    <tr>\n",
       "      <th>3</th>\n",
       "      <td>2013-12-09 03:45:04</td>\n",
       "      <td>2</td>\n",
       "      <td>1</td>\n",
       "    </tr>\n",
       "    <tr>\n",
       "      <th>4</th>\n",
       "      <td>2013-12-25 03:45:04</td>\n",
       "      <td>2</td>\n",
       "      <td>1</td>\n",
       "    </tr>\n",
       "  </tbody>\n",
       "</table>\n",
       "</div>"
      ],
      "text/plain": [
       "            time_stamp  user_id  visited\n",
       "0  2014-04-22 03:53:30        1        1\n",
       "1  2013-11-15 03:45:04        2        1\n",
       "2  2013-11-29 03:45:04        2        1\n",
       "3  2013-12-09 03:45:04        2        1\n",
       "4  2013-12-25 03:45:04        2        1"
      ]
     },
     "execution_count": 12,
     "metadata": {},
     "output_type": "execute_result"
    }
   ],
   "source": [
    "data_engagement.head()"
   ]
  },
  {
   "cell_type": "code",
   "execution_count": 13,
   "metadata": {},
   "outputs": [
    {
     "name": "stdout",
     "output_type": "stream",
     "text": [
      "<class 'pandas.core.frame.DataFrame'>\n",
      "RangeIndex: 207917 entries, 0 to 207916\n",
      "Data columns (total 3 columns):\n",
      " #   Column      Non-Null Count   Dtype \n",
      "---  ------      --------------   ----- \n",
      " 0   time_stamp  207917 non-null  object\n",
      " 1   user_id     207917 non-null  int64 \n",
      " 2   visited     207917 non-null  int64 \n",
      "dtypes: int64(2), object(1)\n",
      "memory usage: 4.8+ MB\n"
     ]
    }
   ],
   "source": [
    "data_engagement.info()"
   ]
  },
  {
   "cell_type": "markdown",
   "metadata": {},
   "source": [
    "Defining an \"adopted user\" as a user who has logged into the product on three separate days in at least one seven day period, identify which factors predict future user adoption."
   ]
  },
  {
   "cell_type": "code",
   "execution_count": 14,
   "metadata": {},
   "outputs": [],
   "source": [
    "# converting the \"time_stamp\" column to datetimes\n",
    "data_engagement.time_stamp = pd.to_datetime(data_engagement.time_stamp)\n",
    "data_engagement.index=data_engagement.time_stamp\n",
    "data_engagement.drop(labels='time_stamp',axis=1,inplace=True)"
   ]
  },
  {
   "cell_type": "code",
   "execution_count": 16,
   "metadata": {},
   "outputs": [],
   "source": [
    "#Group by user_id and resample to 1 week period, sum over period\n",
    "df_agg = data_engagement.groupby([pd.Grouper(freq='W'),'user_id']).sum()"
   ]
  },
  {
   "cell_type": "code",
   "execution_count": 17,
   "metadata": {},
   "outputs": [],
   "source": [
    "#find all user id's with a sum of 3 or more indicating an adopted user\n",
    "df_adopt = df_agg[df_agg.visited>=3].unstack(level=1).melt()\n",
    "adopted_users = pd.DataFrame(df_adopt.user_id.unique(),index=range(df_adopt.user_id.unique().shape[0]),columns=['user_id'])"
   ]
  },
  {
   "cell_type": "code",
   "execution_count": 18,
   "metadata": {},
   "outputs": [
    {
     "data": {
      "text/html": [
       "<div>\n",
       "<style scoped>\n",
       "    .dataframe tbody tr th:only-of-type {\n",
       "        vertical-align: middle;\n",
       "    }\n",
       "\n",
       "    .dataframe tbody tr th {\n",
       "        vertical-align: top;\n",
       "    }\n",
       "\n",
       "    .dataframe thead th {\n",
       "        text-align: right;\n",
       "    }\n",
       "</style>\n",
       "<table border=\"1\" class=\"dataframe\">\n",
       "  <thead>\n",
       "    <tr style=\"text-align: right;\">\n",
       "      <th></th>\n",
       "      <th>user_id</th>\n",
       "    </tr>\n",
       "  </thead>\n",
       "  <tbody>\n",
       "    <tr>\n",
       "      <th>0</th>\n",
       "      <td>1693</td>\n",
       "    </tr>\n",
       "    <tr>\n",
       "      <th>1</th>\n",
       "      <td>728</td>\n",
       "    </tr>\n",
       "    <tr>\n",
       "      <th>2</th>\n",
       "      <td>11764</td>\n",
       "    </tr>\n",
       "    <tr>\n",
       "      <th>3</th>\n",
       "      <td>5297</td>\n",
       "    </tr>\n",
       "    <tr>\n",
       "      <th>4</th>\n",
       "      <td>6171</td>\n",
       "    </tr>\n",
       "    <tr>\n",
       "      <th>...</th>\n",
       "      <td>...</td>\n",
       "    </tr>\n",
       "    <tr>\n",
       "      <th>1440</th>\n",
       "      <td>7868</td>\n",
       "    </tr>\n",
       "    <tr>\n",
       "      <th>1441</th>\n",
       "      <td>7927</td>\n",
       "    </tr>\n",
       "    <tr>\n",
       "      <th>1442</th>\n",
       "      <td>9870</td>\n",
       "    </tr>\n",
       "    <tr>\n",
       "      <th>1443</th>\n",
       "      <td>10746</td>\n",
       "    </tr>\n",
       "    <tr>\n",
       "      <th>1444</th>\n",
       "      <td>8460</td>\n",
       "    </tr>\n",
       "  </tbody>\n",
       "</table>\n",
       "<p>1445 rows × 1 columns</p>\n",
       "</div>"
      ],
      "text/plain": [
       "      user_id\n",
       "0        1693\n",
       "1         728\n",
       "2       11764\n",
       "3        5297\n",
       "4        6171\n",
       "...       ...\n",
       "1440     7868\n",
       "1441     7927\n",
       "1442     9870\n",
       "1443    10746\n",
       "1444     8460\n",
       "\n",
       "[1445 rows x 1 columns]"
      ]
     },
     "execution_count": 18,
     "metadata": {},
     "output_type": "execute_result"
    }
   ],
   "source": [
    "adopted_users"
   ]
  },
  {
   "cell_type": "code",
   "execution_count": 19,
   "metadata": {},
   "outputs": [
    {
     "data": {
      "text/html": [
       "<div>\n",
       "<style scoped>\n",
       "    .dataframe tbody tr th:only-of-type {\n",
       "        vertical-align: middle;\n",
       "    }\n",
       "\n",
       "    .dataframe tbody tr th {\n",
       "        vertical-align: top;\n",
       "    }\n",
       "\n",
       "    .dataframe thead th {\n",
       "        text-align: right;\n",
       "    }\n",
       "</style>\n",
       "<table border=\"1\" class=\"dataframe\">\n",
       "  <thead>\n",
       "    <tr style=\"text-align: right;\">\n",
       "      <th></th>\n",
       "      <th>object_id</th>\n",
       "      <th>creation_time</th>\n",
       "      <th>name</th>\n",
       "      <th>email</th>\n",
       "      <th>creation_source</th>\n",
       "      <th>last_session_creation_time</th>\n",
       "      <th>opted_in_to_mailing_list</th>\n",
       "      <th>enabled_for_marketing_drip</th>\n",
       "      <th>org_id</th>\n",
       "      <th>invited_by_user_id</th>\n",
       "      <th>user_id</th>\n",
       "    </tr>\n",
       "  </thead>\n",
       "  <tbody>\n",
       "    <tr>\n",
       "      <th>0</th>\n",
       "      <td>2</td>\n",
       "      <td>2013-11-15 03:45:04</td>\n",
       "      <td>Poole Matthew</td>\n",
       "      <td>MatthewPoole@gustr.com</td>\n",
       "      <td>ORG_INVITE</td>\n",
       "      <td>1.396238e+09</td>\n",
       "      <td>0</td>\n",
       "      <td>0</td>\n",
       "      <td>1</td>\n",
       "      <td>316.0</td>\n",
       "      <td>2</td>\n",
       "    </tr>\n",
       "    <tr>\n",
       "      <th>1</th>\n",
       "      <td>10</td>\n",
       "      <td>2013-01-16 22:08:03</td>\n",
       "      <td>Santos Carla</td>\n",
       "      <td>CarlaFerreiraSantos@gustr.com</td>\n",
       "      <td>ORG_INVITE</td>\n",
       "      <td>1.401833e+09</td>\n",
       "      <td>1</td>\n",
       "      <td>1</td>\n",
       "      <td>318</td>\n",
       "      <td>4143.0</td>\n",
       "      <td>10</td>\n",
       "    </tr>\n",
       "    <tr>\n",
       "      <th>2</th>\n",
       "      <td>20</td>\n",
       "      <td>2014-03-06 11:46:38</td>\n",
       "      <td>Helms Mikayla</td>\n",
       "      <td>lqyvjilf@uhzdq.com</td>\n",
       "      <td>SIGNUP</td>\n",
       "      <td>1.401364e+09</td>\n",
       "      <td>0</td>\n",
       "      <td>0</td>\n",
       "      <td>58</td>\n",
       "      <td>NaN</td>\n",
       "      <td>20</td>\n",
       "    </tr>\n",
       "    <tr>\n",
       "      <th>3</th>\n",
       "      <td>33</td>\n",
       "      <td>2014-03-11 06:29:09</td>\n",
       "      <td>Araujo José</td>\n",
       "      <td>JoseMartinsAraujo@cuvox.de</td>\n",
       "      <td>GUEST_INVITE</td>\n",
       "      <td>1.401518e+09</td>\n",
       "      <td>0</td>\n",
       "      <td>0</td>\n",
       "      <td>401</td>\n",
       "      <td>79.0</td>\n",
       "      <td>33</td>\n",
       "    </tr>\n",
       "    <tr>\n",
       "      <th>4</th>\n",
       "      <td>42</td>\n",
       "      <td>2012-11-11 19:05:07</td>\n",
       "      <td>Pinto Giovanna</td>\n",
       "      <td>GiovannaCunhaPinto@cuvox.de</td>\n",
       "      <td>SIGNUP</td>\n",
       "      <td>1.401045e+09</td>\n",
       "      <td>1</td>\n",
       "      <td>0</td>\n",
       "      <td>235</td>\n",
       "      <td>NaN</td>\n",
       "      <td>42</td>\n",
       "    </tr>\n",
       "  </tbody>\n",
       "</table>\n",
       "</div>"
      ],
      "text/plain": [
       "   object_id        creation_time            name  \\\n",
       "0          2  2013-11-15 03:45:04   Poole Matthew   \n",
       "1         10  2013-01-16 22:08:03    Santos Carla   \n",
       "2         20  2014-03-06 11:46:38   Helms Mikayla   \n",
       "3         33  2014-03-11 06:29:09     Araujo José   \n",
       "4         42  2012-11-11 19:05:07  Pinto Giovanna   \n",
       "\n",
       "                           email creation_source  last_session_creation_time  \\\n",
       "0         MatthewPoole@gustr.com      ORG_INVITE                1.396238e+09   \n",
       "1  CarlaFerreiraSantos@gustr.com      ORG_INVITE                1.401833e+09   \n",
       "2             lqyvjilf@uhzdq.com          SIGNUP                1.401364e+09   \n",
       "3     JoseMartinsAraujo@cuvox.de    GUEST_INVITE                1.401518e+09   \n",
       "4    GiovannaCunhaPinto@cuvox.de          SIGNUP                1.401045e+09   \n",
       "\n",
       "   opted_in_to_mailing_list  enabled_for_marketing_drip  org_id  \\\n",
       "0                         0                           0       1   \n",
       "1                         1                           1     318   \n",
       "2                         0                           0      58   \n",
       "3                         0                           0     401   \n",
       "4                         1                           0     235   \n",
       "\n",
       "   invited_by_user_id  user_id  \n",
       "0               316.0        2  \n",
       "1              4143.0       10  \n",
       "2                 NaN       20  \n",
       "3                79.0       33  \n",
       "4                 NaN       42  "
      ]
     },
     "execution_count": 19,
     "metadata": {},
     "output_type": "execute_result"
    }
   ],
   "source": [
    "#create df of features\n",
    "df_join = takehome_users.merge(adopted_users,how='inner',left_on='object_id',right_on='user_id')\n",
    "df_join.head()"
   ]
  },
  {
   "cell_type": "code",
   "execution_count": 20,
   "metadata": {},
   "outputs": [],
   "source": [
    "#drop irrelevant columns\n",
    "drop_cols = list(df_join.columns[0:4])\n",
    "drop_cols.append('user_id')\n",
    "df_join = df_join.drop(drop_cols,axis=1)"
   ]
  },
  {
   "cell_type": "code",
   "execution_count": 30,
   "metadata": {},
   "outputs": [],
   "source": [
    "#one hot encode creation_source feature\n",
    "df_create = pd.get_dummies(df_join['creation_source'])\n",
    "df_features = pd.concat([df_join,df_create],axis=1)\n",
    "df_features.drop('creation_source',axis=1,inplace=True)"
   ]
  },
  {
   "cell_type": "code",
   "execution_count": 35,
   "metadata": {},
   "outputs": [
    {
     "data": {
      "text/plain": [
       "<matplotlib.axes._subplots.AxesSubplot at 0x107b72390>"
      ]
     },
     "execution_count": 35,
     "metadata": {},
     "output_type": "execute_result"
    },
    {
     "data": {
      "image/png": "[encoded data removed]",
      "text/plain": [
       "<Figure size 1440x720 with 2 Axes>"
      ]
     },
     "metadata": {},
     "output_type": "display_data"
    }
   ],
   "source": [
    "sns.heatmap(df_features.corr())"
   ]
  },
  {
   "cell_type": "code",
   "execution_count": 31,
   "metadata": {},
   "outputs": [],
   "source": [
    "#convert columns to float64\n",
    "for col in df_features.columns:\n",
    "    df_features[col] = df_features[col].astype('float64')\n",
    "df_features.head()\n",
    "df_features.fillna(0,inplace=True)"
   ]
  },
  {
   "cell_type": "code",
   "execution_count": 41,
   "metadata": {},
   "outputs": [
    {
     "name": "stderr",
     "output_type": "stream",
     "text": [
      "/Users/lilie/Applications/anaconda3/lib/python3.7/site-packages/sklearn/decomposition/_fastica.py:119: ConvergenceWarning: FastICA did not converge. Consider increasing tolerance or the maximum number of iterations.\n",
      "  ConvergenceWarning)\n"
     ]
    }
   ],
   "source": [
    "from sklearn.preprocessing import StandardScaler\n",
    "from sklearn.decomposition import PCA,FastICA\n",
    "\n",
    "#scale data\n",
    "scaler = StandardScaler()\n",
    "features = scaler.fit_transform(df_features)\n",
    "\n",
    "#fit PCA\n",
    "pca = PCA()\n",
    "components = pca.fit_transform(features)\n",
    "\n",
    "ica=FastICA()\n",
    "components=ica.fit_transform(features)"
   ]
  },
  {
   "cell_type": "code",
   "execution_count": 45,
   "metadata": {},
   "outputs": [
    {
     "data": {
      "text/html": [
       "<div>\n",
       "<style scoped>\n",
       "    .dataframe tbody tr th:only-of-type {\n",
       "        vertical-align: middle;\n",
       "    }\n",
       "\n",
       "    .dataframe tbody tr th {\n",
       "        vertical-align: top;\n",
       "    }\n",
       "\n",
       "    .dataframe thead th {\n",
       "        text-align: right;\n",
       "    }\n",
       "</style>\n",
       "<table border=\"1\" class=\"dataframe\">\n",
       "  <thead>\n",
       "    <tr style=\"text-align: right;\">\n",
       "      <th></th>\n",
       "      <th>last_session_creation_time</th>\n",
       "      <th>opted_in_to_mailing_list</th>\n",
       "      <th>enabled_for_marketing_drip</th>\n",
       "      <th>org_id</th>\n",
       "      <th>invited_by_user_id</th>\n",
       "      <th>GUEST_INVITE</th>\n",
       "      <th>ORG_INVITE</th>\n",
       "      <th>PERSONAL_PROJECTS</th>\n",
       "      <th>SIGNUP</th>\n",
       "      <th>SIGNUP_GOOGLE_AUTH</th>\n",
       "    </tr>\n",
       "  </thead>\n",
       "  <tbody>\n",
       "    <tr>\n",
       "      <th>IC-1</th>\n",
       "      <td>NaN</td>\n",
       "      <td>NaN</td>\n",
       "      <td>NaN</td>\n",
       "      <td>NaN</td>\n",
       "      <td>NaN</td>\n",
       "      <td>2.250923e+13</td>\n",
       "      <td>2.550655e+13</td>\n",
       "      <td>1.627919e+13</td>\n",
       "      <td>2.113957e+13</td>\n",
       "      <td>1.882808e+13</td>\n",
       "    </tr>\n",
       "    <tr>\n",
       "      <th>IC-2</th>\n",
       "      <td>NaN</td>\n",
       "      <td>NaN</td>\n",
       "      <td>NaN</td>\n",
       "      <td>NaN</td>\n",
       "      <td>NaN</td>\n",
       "      <td>2.966588e+13</td>\n",
       "      <td>3.361618e+13</td>\n",
       "      <td>2.145504e+13</td>\n",
       "      <td>2.786074e+13</td>\n",
       "      <td>2.481434e+13</td>\n",
       "    </tr>\n",
       "    <tr>\n",
       "      <th>IC-3</th>\n",
       "      <td>NaN</td>\n",
       "      <td>NaN</td>\n",
       "      <td>NaN</td>\n",
       "      <td>NaN</td>\n",
       "      <td>NaN</td>\n",
       "      <td>2.196799e+13</td>\n",
       "      <td>2.489324e+13</td>\n",
       "      <td>1.588775e+13</td>\n",
       "      <td>2.063126e+13</td>\n",
       "      <td>1.837536e+13</td>\n",
       "    </tr>\n",
       "    <tr>\n",
       "      <th>IC-4</th>\n",
       "      <td>NaN</td>\n",
       "      <td>NaN</td>\n",
       "      <td>NaN</td>\n",
       "      <td>NaN</td>\n",
       "      <td>NaN</td>\n",
       "      <td>2.570076e+13</td>\n",
       "      <td>2.912307e+13</td>\n",
       "      <td>1.858738e+13</td>\n",
       "      <td>2.413690e+13</td>\n",
       "      <td>2.149767e+13</td>\n",
       "    </tr>\n",
       "    <tr>\n",
       "      <th>IC-5</th>\n",
       "      <td>NaN</td>\n",
       "      <td>NaN</td>\n",
       "      <td>NaN</td>\n",
       "      <td>NaN</td>\n",
       "      <td>NaN</td>\n",
       "      <td>2.587149e+13</td>\n",
       "      <td>2.931653e+13</td>\n",
       "      <td>1.871086e+13</td>\n",
       "      <td>2.429724e+13</td>\n",
       "      <td>2.164048e+13</td>\n",
       "    </tr>\n",
       "  </tbody>\n",
       "</table>\n",
       "</div>"
      ],
      "text/plain": [
       "      last_session_creation_time  opted_in_to_mailing_list  \\\n",
       "IC-1                         NaN                       NaN   \n",
       "IC-2                         NaN                       NaN   \n",
       "IC-3                         NaN                       NaN   \n",
       "IC-4                         NaN                       NaN   \n",
       "IC-5                         NaN                       NaN   \n",
       "\n",
       "      enabled_for_marketing_drip  org_id  invited_by_user_id  GUEST_INVITE  \\\n",
       "IC-1                         NaN     NaN                 NaN  2.250923e+13   \n",
       "IC-2                         NaN     NaN                 NaN  2.966588e+13   \n",
       "IC-3                         NaN     NaN                 NaN  2.196799e+13   \n",
       "IC-4                         NaN     NaN                 NaN  2.570076e+13   \n",
       "IC-5                         NaN     NaN                 NaN  2.587149e+13   \n",
       "\n",
       "        ORG_INVITE  PERSONAL_PROJECTS        SIGNUP  SIGNUP_GOOGLE_AUTH  \n",
       "IC-1  2.550655e+13       1.627919e+13  2.113957e+13        1.882808e+13  \n",
       "IC-2  3.361618e+13       2.145504e+13  2.786074e+13        2.481434e+13  \n",
       "IC-3  2.489324e+13       1.588775e+13  2.063126e+13        1.837536e+13  \n",
       "IC-4  2.912307e+13       1.858738e+13  2.413690e+13        2.149767e+13  \n",
       "IC-5  2.931653e+13       1.871086e+13  2.429724e+13        2.164048e+13  "
      ]
     },
     "execution_count": 45,
     "metadata": {},
     "output_type": "execute_result"
    }
   ],
   "source": [
    "df_comp = pd.DataFrame(ica.components_,columns=df_features.columns,index=['IC-1','IC-2','IC-3','IC-4','IC-5','IC-6','IC-7','IC-8','IC-9','IC-10'])\n",
    "#absolute values of correlation with principal components\n",
    "best_features = np.absolute(df_comp[np.absolute(df_comp) > 0.1])\n",
    "best_features.head()"
   ]
  },
  {
   "cell_type": "code",
   "execution_count": 43,
   "metadata": {},
   "outputs": [
    {
     "data": {
      "text/html": [
       "<div>\n",
       "<style scoped>\n",
       "    .dataframe tbody tr th:only-of-type {\n",
       "        vertical-align: middle;\n",
       "    }\n",
       "\n",
       "    .dataframe tbody tr th {\n",
       "        vertical-align: top;\n",
       "    }\n",
       "\n",
       "    .dataframe thead th {\n",
       "        text-align: right;\n",
       "    }\n",
       "</style>\n",
       "<table border=\"1\" class=\"dataframe\">\n",
       "  <thead>\n",
       "    <tr style=\"text-align: right;\">\n",
       "      <th></th>\n",
       "      <th>last_session_creation_time</th>\n",
       "      <th>opted_in_to_mailing_list</th>\n",
       "      <th>enabled_for_marketing_drip</th>\n",
       "      <th>org_id</th>\n",
       "      <th>invited_by_user_id</th>\n",
       "      <th>GUEST_INVITE</th>\n",
       "      <th>ORG_INVITE</th>\n",
       "      <th>PERSONAL_PROJECTS</th>\n",
       "      <th>SIGNUP</th>\n",
       "      <th>SIGNUP_GOOGLE_AUTH</th>\n",
       "    </tr>\n",
       "  </thead>\n",
       "  <tbody>\n",
       "    <tr>\n",
       "      <th>PC-1</th>\n",
       "      <td>NaN</td>\n",
       "      <td>NaN</td>\n",
       "      <td>NaN</td>\n",
       "      <td>NaN</td>\n",
       "      <td>0.637653</td>\n",
       "      <td>0.232628</td>\n",
       "      <td>0.486575</td>\n",
       "      <td>0.233976</td>\n",
       "      <td>0.390324</td>\n",
       "      <td>0.296733</td>\n",
       "    </tr>\n",
       "    <tr>\n",
       "      <th>PC-2</th>\n",
       "      <td>NaN</td>\n",
       "      <td>0.695712</td>\n",
       "      <td>0.69891</td>\n",
       "      <td>NaN</td>\n",
       "      <td>NaN</td>\n",
       "      <td>NaN</td>\n",
       "      <td>NaN</td>\n",
       "      <td>NaN</td>\n",
       "      <td>NaN</td>\n",
       "      <td>NaN</td>\n",
       "    </tr>\n",
       "    <tr>\n",
       "      <th>PC-3</th>\n",
       "      <td>0.116892</td>\n",
       "      <td>NaN</td>\n",
       "      <td>NaN</td>\n",
       "      <td>NaN</td>\n",
       "      <td>NaN</td>\n",
       "      <td>0.784060</td>\n",
       "      <td>0.590037</td>\n",
       "      <td>NaN</td>\n",
       "      <td>NaN</td>\n",
       "      <td>NaN</td>\n",
       "    </tr>\n",
       "    <tr>\n",
       "      <th>PC-4</th>\n",
       "      <td>NaN</td>\n",
       "      <td>NaN</td>\n",
       "      <td>NaN</td>\n",
       "      <td>0.261476</td>\n",
       "      <td>NaN</td>\n",
       "      <td>NaN</td>\n",
       "      <td>NaN</td>\n",
       "      <td>0.108246</td>\n",
       "      <td>0.648711</td>\n",
       "      <td>0.697782</td>\n",
       "    </tr>\n",
       "    <tr>\n",
       "      <th>PC-5</th>\n",
       "      <td>0.230407</td>\n",
       "      <td>NaN</td>\n",
       "      <td>NaN</td>\n",
       "      <td>0.219055</td>\n",
       "      <td>NaN</td>\n",
       "      <td>NaN</td>\n",
       "      <td>NaN</td>\n",
       "      <td>0.825688</td>\n",
       "      <td>0.296054</td>\n",
       "      <td>0.350811</td>\n",
       "    </tr>\n",
       "  </tbody>\n",
       "</table>\n",
       "</div>"
      ],
      "text/plain": [
       "      last_session_creation_time  opted_in_to_mailing_list  \\\n",
       "PC-1                         NaN                       NaN   \n",
       "PC-2                         NaN                  0.695712   \n",
       "PC-3                    0.116892                       NaN   \n",
       "PC-4                         NaN                       NaN   \n",
       "PC-5                    0.230407                       NaN   \n",
       "\n",
       "      enabled_for_marketing_drip    org_id  invited_by_user_id  GUEST_INVITE  \\\n",
       "PC-1                         NaN       NaN            0.637653      0.232628   \n",
       "PC-2                     0.69891       NaN                 NaN           NaN   \n",
       "PC-3                         NaN       NaN                 NaN      0.784060   \n",
       "PC-4                         NaN  0.261476                 NaN           NaN   \n",
       "PC-5                         NaN  0.219055                 NaN           NaN   \n",
       "\n",
       "      ORG_INVITE  PERSONAL_PROJECTS    SIGNUP  SIGNUP_GOOGLE_AUTH  \n",
       "PC-1    0.486575           0.233976  0.390324            0.296733  \n",
       "PC-2         NaN                NaN       NaN                 NaN  \n",
       "PC-3    0.590037                NaN       NaN                 NaN  \n",
       "PC-4         NaN           0.108246  0.648711            0.697782  \n",
       "PC-5         NaN           0.825688  0.296054            0.350811  "
      ]
     },
     "execution_count": 43,
     "metadata": {},
     "output_type": "execute_result"
    }
   ],
   "source": [
    "df_comp = pd.DataFrame(pca.components_,columns=df_features.columns,index=['PC-1','PC-2','PC-3','PC-4','PC-5','PC-6','PC-7','PC-8','PC-9','PC-10'])\n",
    "#absolute values of correlation with principal components\n",
    "best_features_pca = np.absolute(df_comp[np.absolute(df_comp) > 0.1])\n",
    "best_features_pca.head()"
   ]
  },
  {
   "cell_type": "code",
   "execution_count": 44,
   "metadata": {},
   "outputs": [
    {
     "data": {
      "text/plain": [
       "org_id                        1.792770\n",
       "SIGNUP_GOOGLE_AUTH            1.705164\n",
       "last_session_creation_time    1.700941\n",
       "SIGNUP                        1.524752\n",
       "PERSONAL_PROJECTS             1.438816\n",
       "ORG_INVITE                    1.076612\n",
       "GUEST_INVITE                  1.016688\n",
       "enabled_for_marketing_drip    0.698910\n",
       "opted_in_to_mailing_list      0.695712\n",
       "invited_by_user_id            0.637653\n",
       "dtype: float64"
      ]
     },
     "execution_count": 44,
     "metadata": {},
     "output_type": "execute_result"
    }
   ],
   "source": [
    "best_features_pca.head(7).sum(axis=0).sort_values(ascending=False)"
   ]
  },
  {
   "cell_type": "code",
   "execution_count": 40,
   "metadata": {},
   "outputs": [
    {
     "data": {
      "text/plain": [
       "ORG_INVITE                    1.604081e+14\n",
       "GUEST_INVITE                  1.415582e+14\n",
       "SIGNUP                        1.329445e+14\n",
       "SIGNUP_GOOGLE_AUTH            1.184079e+14\n",
       "PERSONAL_PROJECTS             1.023781e+14\n",
       "invited_by_user_id            0.000000e+00\n",
       "org_id                        0.000000e+00\n",
       "enabled_for_marketing_drip    0.000000e+00\n",
       "opted_in_to_mailing_list      0.000000e+00\n",
       "last_session_creation_time    0.000000e+00\n",
       "dtype: float64"
      ]
     },
     "execution_count": 40,
     "metadata": {},
     "output_type": "execute_result"
    }
   ],
   "source": [
    "best_features.head(7).sum(axis=0).sort_values(ascending=False)"
   ]
  },
  {
   "cell_type": "code",
   "execution_count": null,
   "metadata": {},
   "outputs": [],
   "source": []
  }
 ],
 "metadata": {
  "kernelspec": {
   "display_name": "Python 3",
   "language": "python",
   "name": "python3"
  },
  "language_info": {
   "codemirror_mode": {
    "name": "ipython",
    "version": 3
   },
   "file_extension": ".py",
   "mimetype": "text/x-python",
   "name": "python",
   "nbconvert_exporter": "python",
   "pygments_lexer": "ipython3",
   "version": "3.7.6"
  }
 },
 "nbformat": 4,
 "nbformat_minor": 4
}
