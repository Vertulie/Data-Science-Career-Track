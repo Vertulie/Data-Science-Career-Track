{
 "cells": [
  {
   "cell_type": "code",
   "execution_count": 33,
   "metadata": {},
   "outputs": [],
   "source": [
    "import requests"
   ]
  },
  {
   "cell_type": "code",
   "execution_count": 34,
   "metadata": {},
   "outputs": [],
   "source": [
    "import json"
   ]
  },
  {
   "cell_type": "code",
   "execution_count": 35,
   "metadata": {},
   "outputs": [],
   "source": [
    "# Now, call the Quandl API and pull out a small sample of the data (only one day) to get a glimpse\n",
    "# into the JSON structure that will be returne\n",
    "afx_x_sample = requests.get('https://www.quandl.com/api/v3/datasets/FSE/AFX_X/data.json?start_date=2014-12-01&end_date=2014-12-01&api_key=JP7YJRLwAkrhUWL9WaUx')\n"
   ]
  },
  {
   "cell_type": "code",
   "execution_count": 36,
   "metadata": {},
   "outputs": [
    {
     "name": "stdout",
     "output_type": "stream",
     "text": [
      "{'dataset_data': {'limit': None, 'transform': None, 'column_index': None, 'column_names': ['Date', 'Open', 'High', 'Low', 'Close', 'Change', 'Traded Volume', 'Turnover', 'Last Price of the Day', 'Daily Traded Units', 'Daily Turnover'], 'start_date': '2014-12-01', 'end_date': '2014-12-01', 'frequency': 'daily', 'data': [['2014-12-01', 22.1, 22.14, 21.82, 21.91, None, 21706.0, 477060.0, None, None, None]], 'collapse': None, 'order': None}}\n"
     ]
    }
   ],
   "source": [
    "# Inspect the JSON structure of the object you created, and take note of how nested it is,\n",
    "# as well as the overall structure\n",
    "print(afx_x_sample.json())"
   ]
  },
  {
   "cell_type": "markdown",
   "metadata": {},
   "source": [
    "#These are Your tasks for this mini project:\n",
    "\n",
    "Collect data from the Franfurt Stock Exchange, for the ticker AFX_X, for the whole year 2017 (keep in mind that the date format is YYYY-MM-DD).\n",
    "Convert the returned JSON object into a Python dictionary.\n",
    "Calculate what the highest and lowest opening prices were for the stock in this period.\n",
    "What was the largest change in any one day (based on High and Low price)?\n",
    "What was the largest change between any two days (based on Closing Price)?\n",
    "What was the average daily trading volume during this year?\n",
    "(Optional) What was the median trading volume during this year. (Note: you may need to implement your own function for calculating the median.)"
   ]
  },
  {
   "cell_type": "markdown",
   "metadata": {},
   "source": [
    "### 2017 AFX_X Data Collection"
   ]
  },
  {
   "cell_type": "code",
   "execution_count": 37,
   "metadata": {},
   "outputs": [],
   "source": [
    "# Request AFX_X stock data from quandl API\n",
    "afx_x_sample = requests.get('https://www.quandl.com/api/v3/datasets/FSE/AFX_X/data.json?start_date=2014-12-01&end_date=2014-12-01&api_key=JP7YJRLwAkrhUWL9WaUx')\n",
    "# Store JSON as a dictionary, since DataFrames are off-limits\n",
    "a = afx_x_sample.json()"
   ]
  },
  {
   "cell_type": "code",
   "execution_count": 38,
   "metadata": {},
   "outputs": [],
   "source": [
    "#Create empty lists to store data\n",
    "a_opens = []\n",
    "a_high = []\n",
    "a_low = []\n",
    "a_close = []\n",
    "a_change = [0]    # First entry will not make sense since it is a rate of change; set to 0\n",
    "a_change_day = []\n",
    "a_volume = []"
   ]
  },
  {
   "cell_type": "markdown",
   "metadata": {},
   "source": [
    "### Extract and store daily values through the yearly data"
   ]
  },
  {
   "cell_type": "code",
   "execution_count": 39,
   "metadata": {},
   "outputs": [],
   "source": [
    "# Extract and store daily values through the yearly data\n",
    "for i in range(len(a['dataset_data']['data'])):\n",
    "    # Select data from relevant outer indices\n",
    "    opening = a['dataset_data']['data'][i][1] \n",
    "    close = a['dataset_data']['data'][i][4]\n",
    "    high = a['dataset_data']['data'][i][2] \n",
    "    low = a['dataset_data']['data'][i][3]    \n",
    "    t_vol = a['dataset_data']['data'][i][6]\n",
    "    \n",
    "    # Check if data entries for that day exists for each relevant parameter\n",
    "    if isinstance(opening,float):\n",
    "        a_opens.append(opening)\n",
    "    if isinstance(close,float):\n",
    "        a_close.append(close)\n",
    "    if isinstance(high,float) and isinstance(low,float):    \n",
    "        change_day = high - low\n",
    "        a_change_day.append(change_day)\n",
    "        \n",
    "    # Change cannot be calculated based on the closing price of the first day\n",
    "    if i != 0 : \n",
    "        change = a_close[i] - a_close[i-1]\n",
    "        a_change.append(change)\n",
    "        \n",
    "    # Store the traded volume for each day.    \n",
    "    if isinstance(t_vol,float):\n",
    "        a_volume.append(t_vol)"
   ]
  },
  {
   "cell_type": "markdown",
   "metadata": {},
   "source": [
    "### Questions on Data"
   ]
  },
  {
   "cell_type": "code",
   "execution_count": 40,
   "metadata": {},
   "outputs": [
    {
     "name": "stdout",
     "output_type": "stream",
     "text": [
      "The highest opening price is: $22.10\n",
      "The lowest opening price is: $22.10\n"
     ]
    }
   ],
   "source": [
    "\n",
    "#What were the highest and lowest opening prices?\n",
    "\n",
    "print('The highest opening price is: $%4.2f'% max(a_opens))\n",
    "print('The lowest opening price is: $%4.2f'% min(a_opens))\n"
   ]
  },
  {
   "cell_type": "code",
   "execution_count": 41,
   "metadata": {},
   "outputs": [
    {
     "name": "stdout",
     "output_type": "stream",
     "text": [
      "The largest change in any one day is: $0.32\n"
     ]
    }
   ],
   "source": [
    "#What was the largest change in any one day (based on High and Low price)?\n",
    "print('The largest change in any one day is: $%4.2f'% max(a_change_day))"
   ]
  },
  {
   "cell_type": "code",
   "execution_count": 42,
   "metadata": {},
   "outputs": [
    {
     "name": "stdout",
     "output_type": "stream",
     "text": [
      "The largest change in between 2 days based on closing price is: $0.00\n"
     ]
    }
   ],
   "source": [
    "#What was the largest change between any two days (based on Closing Price)?\n",
    "print('The largest change in between 2 days based on closing price is: $%4.2f'% max(a_change))"
   ]
  },
  {
   "cell_type": "code",
   "execution_count": 43,
   "metadata": {},
   "outputs": [
    {
     "name": "stdout",
     "output_type": "stream",
     "text": [
      "The average traded volume is: $ 21706.00\n"
     ]
    }
   ],
   "source": [
    "#What was the average daily trading volume during this year?\n",
    "average_vol = sum(a_volume)/len(a_volume)\n",
    "print('The average traded volume is: $%9.2f'% average_vol)\n"
   ]
  },
  {
   "cell_type": "code",
   "execution_count": 44,
   "metadata": {},
   "outputs": [
    {
     "name": "stdout",
     "output_type": "stream",
     "text": [
      "Median volume is: $ 21706.00\n"
     ]
    }
   ],
   "source": [
    "#What was the median trading volume during this year?\n",
    "median = sorted(a_volume)[int(len(a_volume)/2)]\n",
    "print('Median volume is: $%9.2f'% median)"
   ]
  }
 ],
 "metadata": {
  "kernelspec": {
   "display_name": "Python 3",
   "language": "python",
   "name": "python3"
  },
  "language_info": {
   "codemirror_mode": {
    "name": "ipython",
    "version": 3
   },
   "file_extension": ".py",
   "mimetype": "text/x-python",
   "name": "python",
   "nbconvert_exporter": "python",
   "pygments_lexer": "ipython3",
   "version": "3.6.9"
  }
 },
 "nbformat": 4,
 "nbformat_minor": 2
}
