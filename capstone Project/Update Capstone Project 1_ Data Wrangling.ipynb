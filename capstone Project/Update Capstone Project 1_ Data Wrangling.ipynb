{
 "cells": [
  {
   "cell_type": "markdown",
   "metadata": {},
   "source": [
    "### Capstone Project 1\n",
    "Create a short document (1-2 pages) in your github describing the data wrangling steps that you undertook to clean your capstone project data set. What kind of cleaning steps did you perform? How did you deal with missing values, if any? Were there outliers, and how did you decide to handle them?"
   ]
  },
  {
   "cell_type": "markdown",
   "metadata": {},
   "source": [
    "The dataset consists of 5819079 rows and 31 columns. When I took a closer look at the data, I noticed that several features have Null values. I performed data wrangling by Renaming, Sorting reordering, duplicating data, addressing missing or invalid data, and Filtering to the desired subset of data. I used the isnull() function to detect missing values. And The dropna() function to remove missing values."
   ]
  },
  {
   "cell_type": "code",
   "execution_count": 81,
   "metadata": {},
   "outputs": [],
   "source": [
    "import datetime,scipy \n",
    "import pandas as pd\n",
    "import numpy as np\n",
    "import seaborn as sns\n",
    "import matplotlib.pyplot as plt"
   ]
  },
  {
   "cell_type": "markdown",
   "metadata": {},
   "source": [
    "### Gathering Data"
   ]
  },
  {
   "cell_type": "code",
   "execution_count": 82,
   "metadata": {},
   "outputs": [
    {
     "name": "stderr",
     "output_type": "stream",
     "text": [
      "/Users/lilie/Applications/anaconda3/lib/python3.7/site-packages/IPython/core/interactiveshell.py:3063: DtypeWarning: Columns (7,8) have mixed types.Specify dtype option on import or set low_memory=False.\n",
      "  interactivity=interactivity, compiler=compiler, result=result)\n"
     ]
    }
   ],
   "source": [
    "data = pd.read_csv(\"flights.csv\")"
   ]
  },
  {
   "cell_type": "code",
   "execution_count": 83,
   "metadata": {},
   "outputs": [],
   "source": [
    "data=data.sample(n=100000)"
   ]
  },
  {
   "cell_type": "code",
   "execution_count": 84,
   "metadata": {},
   "outputs": [],
   "source": [
    "airport = pd.read_csv('airports.csv')\n",
    "airlines = pd.read_csv('airlines.csv')"
   ]
  },
  {
   "cell_type": "code",
   "execution_count": 85,
   "metadata": {},
   "outputs": [
    {
     "name": "stdout",
     "output_type": "stream",
     "text": [
      "<class 'pandas.core.frame.DataFrame'>\n",
      "Int64Index: 100000 entries, 5304822 to 837005\n",
      "Data columns (total 31 columns):\n",
      " #   Column               Non-Null Count   Dtype  \n",
      "---  ------               --------------   -----  \n",
      " 0   YEAR                 100000 non-null  int64  \n",
      " 1   MONTH                100000 non-null  int64  \n",
      " 2   DAY                  100000 non-null  int64  \n",
      " 3   DAY_OF_WEEK          100000 non-null  int64  \n",
      " 4   AIRLINE              100000 non-null  object \n",
      " 5   FLIGHT_NUMBER        100000 non-null  int64  \n",
      " 6   TAIL_NUMBER          99749 non-null   object \n",
      " 7   ORIGIN_AIRPORT       100000 non-null  object \n",
      " 8   DESTINATION_AIRPORT  100000 non-null  object \n",
      " 9   SCHEDULED_DEPARTURE  100000 non-null  int64  \n",
      " 10  DEPARTURE_TIME       98496 non-null   float64\n",
      " 11  DEPARTURE_DELAY      98496 non-null   float64\n",
      " 12  TAXI_OUT             98453 non-null   float64\n",
      " 13  WHEELS_OFF           98453 non-null   float64\n",
      " 14  SCHEDULED_TIME       100000 non-null  float64\n",
      " 15  ELAPSED_TIME         98164 non-null   float64\n",
      " 16  AIR_TIME             98164 non-null   float64\n",
      " 17  DISTANCE             100000 non-null  int64  \n",
      " 18  WHEELS_ON            98397 non-null   float64\n",
      " 19  TAXI_IN              98397 non-null   float64\n",
      " 20  SCHEDULED_ARRIVAL    100000 non-null  int64  \n",
      " 21  ARRIVAL_TIME         98397 non-null   float64\n",
      " 22  ARRIVAL_DELAY        98164 non-null   float64\n",
      " 23  DIVERTED             100000 non-null  int64  \n",
      " 24  CANCELLED            100000 non-null  int64  \n",
      " 25  CANCELLATION_REASON  1557 non-null    object \n",
      " 26  AIR_SYSTEM_DELAY     18365 non-null   float64\n",
      " 27  SECURITY_DELAY       18365 non-null   float64\n",
      " 28  AIRLINE_DELAY        18365 non-null   float64\n",
      " 29  LATE_AIRCRAFT_DELAY  18365 non-null   float64\n",
      " 30  WEATHER_DELAY        18365 non-null   float64\n",
      "dtypes: float64(16), int64(10), object(5)\n",
      "memory usage: 24.4+ MB\n"
     ]
    }
   ],
   "source": [
    "data.info()"
   ]
  },
  {
   "cell_type": "markdown",
   "metadata": {},
   "source": [
    "## Data Insights"
   ]
  },
  {
   "cell_type": "code",
   "execution_count": 80,
   "metadata": {},
   "outputs": [
    {
     "data": {
      "text/plain": [
       "(100000, 31)"
      ]
     },
     "execution_count": 80,
     "metadata": {},
     "output_type": "execute_result"
    }
   ],
   "source": [
    "data.shape"
   ]
  },
  {
   "cell_type": "markdown",
   "metadata": {},
   "source": [
    "The dataset comprises of 5819079 observations and 31chracteriestics\n",
    "out of which one is dependent variable and rest 30 are independent variables."
   ]
  },
  {
   "cell_type": "markdown",
   "metadata": {},
   "source": [
    "### Summary Statistics"
   ]
  },
  {
   "cell_type": "code",
   "execution_count": 7,
   "metadata": {},
   "outputs": [
    {
     "data": {
      "text/html": [
       "<div>\n",
       "<style scoped>\n",
       "    .dataframe tbody tr th:only-of-type {\n",
       "        vertical-align: middle;\n",
       "    }\n",
       "\n",
       "    .dataframe tbody tr th {\n",
       "        vertical-align: top;\n",
       "    }\n",
       "\n",
       "    .dataframe thead th {\n",
       "        text-align: right;\n",
       "    }\n",
       "</style>\n",
       "<table border=\"1\" class=\"dataframe\">\n",
       "  <thead>\n",
       "    <tr style=\"text-align: right;\">\n",
       "      <th></th>\n",
       "      <th>YEAR</th>\n",
       "      <th>MONTH</th>\n",
       "      <th>DAY</th>\n",
       "      <th>DAY_OF_WEEK</th>\n",
       "      <th>FLIGHT_NUMBER</th>\n",
       "      <th>SCHEDULED_DEPARTURE</th>\n",
       "      <th>DEPARTURE_TIME</th>\n",
       "      <th>DEPARTURE_DELAY</th>\n",
       "      <th>TAXI_OUT</th>\n",
       "      <th>WHEELS_OFF</th>\n",
       "      <th>...</th>\n",
       "      <th>SCHEDULED_ARRIVAL</th>\n",
       "      <th>ARRIVAL_TIME</th>\n",
       "      <th>ARRIVAL_DELAY</th>\n",
       "      <th>DIVERTED</th>\n",
       "      <th>CANCELLED</th>\n",
       "      <th>AIR_SYSTEM_DELAY</th>\n",
       "      <th>SECURITY_DELAY</th>\n",
       "      <th>AIRLINE_DELAY</th>\n",
       "      <th>LATE_AIRCRAFT_DELAY</th>\n",
       "      <th>WEATHER_DELAY</th>\n",
       "    </tr>\n",
       "  </thead>\n",
       "  <tbody>\n",
       "    <tr>\n",
       "      <th>count</th>\n",
       "      <td>100000.0</td>\n",
       "      <td>100000.000000</td>\n",
       "      <td>100000.000000</td>\n",
       "      <td>100000.000000</td>\n",
       "      <td>100000.000000</td>\n",
       "      <td>100000.000000</td>\n",
       "      <td>98567.000000</td>\n",
       "      <td>98567.000000</td>\n",
       "      <td>98519.000000</td>\n",
       "      <td>98519.000000</td>\n",
       "      <td>...</td>\n",
       "      <td>100000.00000</td>\n",
       "      <td>98463.000000</td>\n",
       "      <td>98262.000000</td>\n",
       "      <td>100000.000000</td>\n",
       "      <td>100000.000000</td>\n",
       "      <td>18298.000000</td>\n",
       "      <td>18298.000000</td>\n",
       "      <td>18298.000000</td>\n",
       "      <td>18298.000000</td>\n",
       "      <td>18298.000000</td>\n",
       "    </tr>\n",
       "    <tr>\n",
       "      <th>mean</th>\n",
       "      <td>2015.0</td>\n",
       "      <td>6.518270</td>\n",
       "      <td>15.752430</td>\n",
       "      <td>3.928900</td>\n",
       "      <td>2181.275680</td>\n",
       "      <td>1330.654150</td>\n",
       "      <td>1335.983940</td>\n",
       "      <td>9.388061</td>\n",
       "      <td>16.131711</td>\n",
       "      <td>1357.680153</td>\n",
       "      <td>...</td>\n",
       "      <td>1493.96818</td>\n",
       "      <td>1476.977636</td>\n",
       "      <td>4.448088</td>\n",
       "      <td>0.002410</td>\n",
       "      <td>0.014970</td>\n",
       "      <td>13.657777</td>\n",
       "      <td>0.077549</td>\n",
       "      <td>18.617445</td>\n",
       "      <td>23.704776</td>\n",
       "      <td>2.929555</td>\n",
       "    </tr>\n",
       "    <tr>\n",
       "      <th>std</th>\n",
       "      <td>0.0</td>\n",
       "      <td>3.411504</td>\n",
       "      <td>8.791039</td>\n",
       "      <td>2.001436</td>\n",
       "      <td>1759.683847</td>\n",
       "      <td>484.068943</td>\n",
       "      <td>496.750957</td>\n",
       "      <td>36.531606</td>\n",
       "      <td>9.073852</td>\n",
       "      <td>498.409708</td>\n",
       "      <td>...</td>\n",
       "      <td>507.48133</td>\n",
       "      <td>526.458553</td>\n",
       "      <td>38.750842</td>\n",
       "      <td>0.049033</td>\n",
       "      <td>0.121433</td>\n",
       "      <td>26.946926</td>\n",
       "      <td>2.035094</td>\n",
       "      <td>47.052713</td>\n",
       "      <td>43.143930</td>\n",
       "      <td>20.173476</td>\n",
       "    </tr>\n",
       "    <tr>\n",
       "      <th>min</th>\n",
       "      <td>2015.0</td>\n",
       "      <td>1.000000</td>\n",
       "      <td>1.000000</td>\n",
       "      <td>1.000000</td>\n",
       "      <td>1.000000</td>\n",
       "      <td>1.000000</td>\n",
       "      <td>1.000000</td>\n",
       "      <td>-40.000000</td>\n",
       "      <td>1.000000</td>\n",
       "      <td>1.000000</td>\n",
       "      <td>...</td>\n",
       "      <td>1.00000</td>\n",
       "      <td>1.000000</td>\n",
       "      <td>-74.000000</td>\n",
       "      <td>0.000000</td>\n",
       "      <td>0.000000</td>\n",
       "      <td>0.000000</td>\n",
       "      <td>0.000000</td>\n",
       "      <td>0.000000</td>\n",
       "      <td>0.000000</td>\n",
       "      <td>0.000000</td>\n",
       "    </tr>\n",
       "    <tr>\n",
       "      <th>25%</th>\n",
       "      <td>2015.0</td>\n",
       "      <td>4.000000</td>\n",
       "      <td>8.000000</td>\n",
       "      <td>2.000000</td>\n",
       "      <td>735.000000</td>\n",
       "      <td>918.000000</td>\n",
       "      <td>922.000000</td>\n",
       "      <td>-5.000000</td>\n",
       "      <td>11.000000</td>\n",
       "      <td>936.000000</td>\n",
       "      <td>...</td>\n",
       "      <td>1109.00000</td>\n",
       "      <td>1057.000000</td>\n",
       "      <td>-13.000000</td>\n",
       "      <td>0.000000</td>\n",
       "      <td>0.000000</td>\n",
       "      <td>0.000000</td>\n",
       "      <td>0.000000</td>\n",
       "      <td>0.000000</td>\n",
       "      <td>0.000000</td>\n",
       "      <td>0.000000</td>\n",
       "    </tr>\n",
       "    <tr>\n",
       "      <th>50%</th>\n",
       "      <td>2015.0</td>\n",
       "      <td>7.000000</td>\n",
       "      <td>16.000000</td>\n",
       "      <td>4.000000</td>\n",
       "      <td>1702.000000</td>\n",
       "      <td>1326.000000</td>\n",
       "      <td>1332.000000</td>\n",
       "      <td>-2.000000</td>\n",
       "      <td>14.000000</td>\n",
       "      <td>1344.000000</td>\n",
       "      <td>...</td>\n",
       "      <td>1520.00000</td>\n",
       "      <td>1513.000000</td>\n",
       "      <td>-5.000000</td>\n",
       "      <td>0.000000</td>\n",
       "      <td>0.000000</td>\n",
       "      <td>2.000000</td>\n",
       "      <td>0.000000</td>\n",
       "      <td>2.000000</td>\n",
       "      <td>3.000000</td>\n",
       "      <td>0.000000</td>\n",
       "    </tr>\n",
       "    <tr>\n",
       "      <th>75%</th>\n",
       "      <td>2015.0</td>\n",
       "      <td>9.000000</td>\n",
       "      <td>23.000000</td>\n",
       "      <td>6.000000</td>\n",
       "      <td>3247.000000</td>\n",
       "      <td>1730.000000</td>\n",
       "      <td>1740.000000</td>\n",
       "      <td>7.000000</td>\n",
       "      <td>19.000000</td>\n",
       "      <td>1754.000000</td>\n",
       "      <td>...</td>\n",
       "      <td>1918.00000</td>\n",
       "      <td>1916.000000</td>\n",
       "      <td>8.000000</td>\n",
       "      <td>0.000000</td>\n",
       "      <td>0.000000</td>\n",
       "      <td>18.000000</td>\n",
       "      <td>0.000000</td>\n",
       "      <td>19.000000</td>\n",
       "      <td>29.000000</td>\n",
       "      <td>0.000000</td>\n",
       "    </tr>\n",
       "    <tr>\n",
       "      <th>max</th>\n",
       "      <td>2015.0</td>\n",
       "      <td>12.000000</td>\n",
       "      <td>31.000000</td>\n",
       "      <td>7.000000</td>\n",
       "      <td>7438.000000</td>\n",
       "      <td>2359.000000</td>\n",
       "      <td>2400.000000</td>\n",
       "      <td>1076.000000</td>\n",
       "      <td>180.000000</td>\n",
       "      <td>2400.000000</td>\n",
       "      <td>...</td>\n",
       "      <td>2359.00000</td>\n",
       "      <td>2400.000000</td>\n",
       "      <td>1090.000000</td>\n",
       "      <td>1.000000</td>\n",
       "      <td>1.000000</td>\n",
       "      <td>390.000000</td>\n",
       "      <td>148.000000</td>\n",
       "      <td>1076.000000</td>\n",
       "      <td>635.000000</td>\n",
       "      <td>748.000000</td>\n",
       "    </tr>\n",
       "  </tbody>\n",
       "</table>\n",
       "<p>8 rows × 26 columns</p>\n",
       "</div>"
      ],
      "text/plain": [
       "           YEAR          MONTH            DAY    DAY_OF_WEEK  FLIGHT_NUMBER  \\\n",
       "count  100000.0  100000.000000  100000.000000  100000.000000  100000.000000   \n",
       "mean     2015.0       6.518270      15.752430       3.928900    2181.275680   \n",
       "std         0.0       3.411504       8.791039       2.001436    1759.683847   \n",
       "min      2015.0       1.000000       1.000000       1.000000       1.000000   \n",
       "25%      2015.0       4.000000       8.000000       2.000000     735.000000   \n",
       "50%      2015.0       7.000000      16.000000       4.000000    1702.000000   \n",
       "75%      2015.0       9.000000      23.000000       6.000000    3247.000000   \n",
       "max      2015.0      12.000000      31.000000       7.000000    7438.000000   \n",
       "\n",
       "       SCHEDULED_DEPARTURE  DEPARTURE_TIME  DEPARTURE_DELAY      TAXI_OUT  \\\n",
       "count        100000.000000    98567.000000     98567.000000  98519.000000   \n",
       "mean           1330.654150     1335.983940         9.388061     16.131711   \n",
       "std             484.068943      496.750957        36.531606      9.073852   \n",
       "min               1.000000        1.000000       -40.000000      1.000000   \n",
       "25%             918.000000      922.000000        -5.000000     11.000000   \n",
       "50%            1326.000000     1332.000000        -2.000000     14.000000   \n",
       "75%            1730.000000     1740.000000         7.000000     19.000000   \n",
       "max            2359.000000     2400.000000      1076.000000    180.000000   \n",
       "\n",
       "         WHEELS_OFF  ...  SCHEDULED_ARRIVAL  ARRIVAL_TIME  ARRIVAL_DELAY  \\\n",
       "count  98519.000000  ...       100000.00000  98463.000000   98262.000000   \n",
       "mean    1357.680153  ...         1493.96818   1476.977636       4.448088   \n",
       "std      498.409708  ...          507.48133    526.458553      38.750842   \n",
       "min        1.000000  ...            1.00000      1.000000     -74.000000   \n",
       "25%      936.000000  ...         1109.00000   1057.000000     -13.000000   \n",
       "50%     1344.000000  ...         1520.00000   1513.000000      -5.000000   \n",
       "75%     1754.000000  ...         1918.00000   1916.000000       8.000000   \n",
       "max     2400.000000  ...         2359.00000   2400.000000    1090.000000   \n",
       "\n",
       "            DIVERTED      CANCELLED  AIR_SYSTEM_DELAY  SECURITY_DELAY  \\\n",
       "count  100000.000000  100000.000000      18298.000000    18298.000000   \n",
       "mean        0.002410       0.014970         13.657777        0.077549   \n",
       "std         0.049033       0.121433         26.946926        2.035094   \n",
       "min         0.000000       0.000000          0.000000        0.000000   \n",
       "25%         0.000000       0.000000          0.000000        0.000000   \n",
       "50%         0.000000       0.000000          2.000000        0.000000   \n",
       "75%         0.000000       0.000000         18.000000        0.000000   \n",
       "max         1.000000       1.000000        390.000000      148.000000   \n",
       "\n",
       "       AIRLINE_DELAY  LATE_AIRCRAFT_DELAY  WEATHER_DELAY  \n",
       "count   18298.000000         18298.000000   18298.000000  \n",
       "mean       18.617445            23.704776       2.929555  \n",
       "std        47.052713            43.143930      20.173476  \n",
       "min         0.000000             0.000000       0.000000  \n",
       "25%         0.000000             0.000000       0.000000  \n",
       "50%         2.000000             3.000000       0.000000  \n",
       "75%        19.000000            29.000000       0.000000  \n",
       "max      1076.000000           635.000000     748.000000  \n",
       "\n",
       "[8 rows x 26 columns]"
      ]
     },
     "execution_count": 7,
     "metadata": {},
     "output_type": "execute_result"
    }
   ],
   "source": [
    "data.describe()"
   ]
  },
  {
   "cell_type": "code",
   "execution_count": 8,
   "metadata": {},
   "outputs": [
    {
     "data": {
      "text/html": [
       "<div>\n",
       "<style scoped>\n",
       "    .dataframe tbody tr th:only-of-type {\n",
       "        vertical-align: middle;\n",
       "    }\n",
       "\n",
       "    .dataframe tbody tr th {\n",
       "        vertical-align: top;\n",
       "    }\n",
       "\n",
       "    .dataframe thead th {\n",
       "        text-align: right;\n",
       "    }\n",
       "</style>\n",
       "<table border=\"1\" class=\"dataframe\">\n",
       "  <thead>\n",
       "    <tr style=\"text-align: right;\">\n",
       "      <th></th>\n",
       "      <th>YEAR</th>\n",
       "      <th>MONTH</th>\n",
       "      <th>DAY</th>\n",
       "      <th>DAY_OF_WEEK</th>\n",
       "      <th>AIRLINE</th>\n",
       "      <th>FLIGHT_NUMBER</th>\n",
       "      <th>TAIL_NUMBER</th>\n",
       "      <th>ORIGIN_AIRPORT</th>\n",
       "      <th>DESTINATION_AIRPORT</th>\n",
       "      <th>SCHEDULED_DEPARTURE</th>\n",
       "      <th>...</th>\n",
       "      <th>ARRIVAL_TIME</th>\n",
       "      <th>ARRIVAL_DELAY</th>\n",
       "      <th>DIVERTED</th>\n",
       "      <th>CANCELLED</th>\n",
       "      <th>CANCELLATION_REASON</th>\n",
       "      <th>AIR_SYSTEM_DELAY</th>\n",
       "      <th>SECURITY_DELAY</th>\n",
       "      <th>AIRLINE_DELAY</th>\n",
       "      <th>LATE_AIRCRAFT_DELAY</th>\n",
       "      <th>WEATHER_DELAY</th>\n",
       "    </tr>\n",
       "  </thead>\n",
       "  <tbody>\n",
       "    <tr>\n",
       "      <th>3897267</th>\n",
       "      <td>2015</td>\n",
       "      <td>8</td>\n",
       "      <td>30</td>\n",
       "      <td>7</td>\n",
       "      <td>AA</td>\n",
       "      <td>772</td>\n",
       "      <td>N200UU</td>\n",
       "      <td>SJU</td>\n",
       "      <td>PHL</td>\n",
       "      <td>1510</td>\n",
       "      <td>...</td>\n",
       "      <td>1853.0</td>\n",
       "      <td>-10.0</td>\n",
       "      <td>0</td>\n",
       "      <td>0</td>\n",
       "      <td>NaN</td>\n",
       "      <td>NaN</td>\n",
       "      <td>NaN</td>\n",
       "      <td>NaN</td>\n",
       "      <td>NaN</td>\n",
       "      <td>NaN</td>\n",
       "    </tr>\n",
       "    <tr>\n",
       "      <th>2835037</th>\n",
       "      <td>2015</td>\n",
       "      <td>6</td>\n",
       "      <td>27</td>\n",
       "      <td>6</td>\n",
       "      <td>WN</td>\n",
       "      <td>3161</td>\n",
       "      <td>N7710A</td>\n",
       "      <td>BOS</td>\n",
       "      <td>STL</td>\n",
       "      <td>1645</td>\n",
       "      <td>...</td>\n",
       "      <td>2040.0</td>\n",
       "      <td>110.0</td>\n",
       "      <td>0</td>\n",
       "      <td>0</td>\n",
       "      <td>NaN</td>\n",
       "      <td>0.0</td>\n",
       "      <td>0.0</td>\n",
       "      <td>13.0</td>\n",
       "      <td>97.0</td>\n",
       "      <td>0.0</td>\n",
       "    </tr>\n",
       "    <tr>\n",
       "      <th>3245709</th>\n",
       "      <td>2015</td>\n",
       "      <td>7</td>\n",
       "      <td>22</td>\n",
       "      <td>3</td>\n",
       "      <td>UA</td>\n",
       "      <td>1415</td>\n",
       "      <td>N35271</td>\n",
       "      <td>SFO</td>\n",
       "      <td>PDX</td>\n",
       "      <td>1057</td>\n",
       "      <td>...</td>\n",
       "      <td>1230.0</td>\n",
       "      <td>-11.0</td>\n",
       "      <td>0</td>\n",
       "      <td>0</td>\n",
       "      <td>NaN</td>\n",
       "      <td>NaN</td>\n",
       "      <td>NaN</td>\n",
       "      <td>NaN</td>\n",
       "      <td>NaN</td>\n",
       "      <td>NaN</td>\n",
       "    </tr>\n",
       "    <tr>\n",
       "      <th>2645777</th>\n",
       "      <td>2015</td>\n",
       "      <td>6</td>\n",
       "      <td>16</td>\n",
       "      <td>2</td>\n",
       "      <td>EV</td>\n",
       "      <td>5449</td>\n",
       "      <td>N371CA</td>\n",
       "      <td>DTW</td>\n",
       "      <td>ELM</td>\n",
       "      <td>1350</td>\n",
       "      <td>...</td>\n",
       "      <td>1447.0</td>\n",
       "      <td>-13.0</td>\n",
       "      <td>0</td>\n",
       "      <td>0</td>\n",
       "      <td>NaN</td>\n",
       "      <td>NaN</td>\n",
       "      <td>NaN</td>\n",
       "      <td>NaN</td>\n",
       "      <td>NaN</td>\n",
       "      <td>NaN</td>\n",
       "    </tr>\n",
       "    <tr>\n",
       "      <th>5365777</th>\n",
       "      <td>2015</td>\n",
       "      <td>12</td>\n",
       "      <td>2</td>\n",
       "      <td>3</td>\n",
       "      <td>EV</td>\n",
       "      <td>4876</td>\n",
       "      <td>N166PQ</td>\n",
       "      <td>DTW</td>\n",
       "      <td>ORF</td>\n",
       "      <td>1541</td>\n",
       "      <td>...</td>\n",
       "      <td>1730.0</td>\n",
       "      <td>-2.0</td>\n",
       "      <td>0</td>\n",
       "      <td>0</td>\n",
       "      <td>NaN</td>\n",
       "      <td>NaN</td>\n",
       "      <td>NaN</td>\n",
       "      <td>NaN</td>\n",
       "      <td>NaN</td>\n",
       "      <td>NaN</td>\n",
       "    </tr>\n",
       "  </tbody>\n",
       "</table>\n",
       "<p>5 rows × 31 columns</p>\n",
       "</div>"
      ],
      "text/plain": [
       "         YEAR  MONTH  DAY  DAY_OF_WEEK AIRLINE  FLIGHT_NUMBER TAIL_NUMBER  \\\n",
       "3897267  2015      8   30            7      AA            772      N200UU   \n",
       "2835037  2015      6   27            6      WN           3161      N7710A   \n",
       "3245709  2015      7   22            3      UA           1415      N35271   \n",
       "2645777  2015      6   16            2      EV           5449      N371CA   \n",
       "5365777  2015     12    2            3      EV           4876      N166PQ   \n",
       "\n",
       "        ORIGIN_AIRPORT DESTINATION_AIRPORT  SCHEDULED_DEPARTURE  ...  \\\n",
       "3897267            SJU                 PHL                 1510  ...   \n",
       "2835037            BOS                 STL                 1645  ...   \n",
       "3245709            SFO                 PDX                 1057  ...   \n",
       "2645777            DTW                 ELM                 1350  ...   \n",
       "5365777            DTW                 ORF                 1541  ...   \n",
       "\n",
       "         ARRIVAL_TIME  ARRIVAL_DELAY  DIVERTED  CANCELLED  \\\n",
       "3897267        1853.0          -10.0         0          0   \n",
       "2835037        2040.0          110.0         0          0   \n",
       "3245709        1230.0          -11.0         0          0   \n",
       "2645777        1447.0          -13.0         0          0   \n",
       "5365777        1730.0           -2.0         0          0   \n",
       "\n",
       "         CANCELLATION_REASON  AIR_SYSTEM_DELAY  SECURITY_DELAY  AIRLINE_DELAY  \\\n",
       "3897267                  NaN               NaN             NaN            NaN   \n",
       "2835037                  NaN               0.0             0.0           13.0   \n",
       "3245709                  NaN               NaN             NaN            NaN   \n",
       "2645777                  NaN               NaN             NaN            NaN   \n",
       "5365777                  NaN               NaN             NaN            NaN   \n",
       "\n",
       "         LATE_AIRCRAFT_DELAY  WEATHER_DELAY  \n",
       "3897267                  NaN            NaN  \n",
       "2835037                 97.0            0.0  \n",
       "3245709                  NaN            NaN  \n",
       "2645777                  NaN            NaN  \n",
       "5365777                  NaN            NaN  \n",
       "\n",
       "[5 rows x 31 columns]"
      ]
     },
     "execution_count": 8,
     "metadata": {},
     "output_type": "execute_result"
    }
   ],
   "source": [
    "data.head()"
   ]
  },
  {
   "cell_type": "markdown",
   "metadata": {},
   "source": [
    "From the above table it is clear that data is not properly organised and date is given seperated and many columns have unnecessary data not useful for visualization for which it is required that we clean the data and take only those columns which is of our use."
   ]
  },
  {
   "cell_type": "markdown",
   "metadata": {},
   "source": [
    "### Data Wrangling\n",
    "I used the isnull() function to Identify missing values"
   ]
  },
  {
   "cell_type": "code",
   "execution_count": 9,
   "metadata": {},
   "outputs": [
    {
     "data": {
      "text/plain": [
       "IATA_CODE    0\n",
       "AIRPORT      0\n",
       "CITY         0\n",
       "STATE        0\n",
       "COUNTRY      0\n",
       "LATITUDE     3\n",
       "LONGITUDE    3\n",
       "dtype: int64"
      ]
     },
     "execution_count": 9,
     "metadata": {},
     "output_type": "execute_result"
    }
   ],
   "source": [
    "airport.isnull().sum()"
   ]
  },
  {
   "cell_type": "code",
   "execution_count": 10,
   "metadata": {},
   "outputs": [],
   "source": [
    "airport = airport.dropna(subset = ['LATITUDE','LONGITUDE'])"
   ]
  },
  {
   "cell_type": "code",
   "execution_count": 11,
   "metadata": {},
   "outputs": [
    {
     "data": {
      "text/plain": [
       "IATA_CODE    0\n",
       "AIRPORT      0\n",
       "CITY         0\n",
       "STATE        0\n",
       "COUNTRY      0\n",
       "LATITUDE     0\n",
       "LONGITUDE    0\n",
       "dtype: int64"
      ]
     },
     "execution_count": 11,
     "metadata": {},
     "output_type": "execute_result"
    }
   ],
   "source": [
    "airport.isnull().sum()"
   ]
  },
  {
   "cell_type": "code",
   "execution_count": 12,
   "metadata": {},
   "outputs": [
    {
     "data": {
      "text/html": [
       "<div>\n",
       "<style scoped>\n",
       "    .dataframe tbody tr th:only-of-type {\n",
       "        vertical-align: middle;\n",
       "    }\n",
       "\n",
       "    .dataframe tbody tr th {\n",
       "        vertical-align: top;\n",
       "    }\n",
       "\n",
       "    .dataframe thead th {\n",
       "        text-align: right;\n",
       "    }\n",
       "</style>\n",
       "<table border=\"1\" class=\"dataframe\">\n",
       "  <thead>\n",
       "    <tr style=\"text-align: right;\">\n",
       "      <th></th>\n",
       "      <th>IATA_CODE</th>\n",
       "      <th>AIRPORT</th>\n",
       "      <th>CITY</th>\n",
       "      <th>STATE</th>\n",
       "      <th>COUNTRY</th>\n",
       "      <th>LATITUDE</th>\n",
       "      <th>LONGITUDE</th>\n",
       "    </tr>\n",
       "  </thead>\n",
       "  <tbody>\n",
       "    <tr>\n",
       "      <th>0</th>\n",
       "      <td>ABE</td>\n",
       "      <td>Lehigh Valley International Airport</td>\n",
       "      <td>Allentown</td>\n",
       "      <td>PA</td>\n",
       "      <td>USA</td>\n",
       "      <td>40.65236</td>\n",
       "      <td>-75.44040</td>\n",
       "    </tr>\n",
       "    <tr>\n",
       "      <th>1</th>\n",
       "      <td>ABI</td>\n",
       "      <td>Abilene Regional Airport</td>\n",
       "      <td>Abilene</td>\n",
       "      <td>TX</td>\n",
       "      <td>USA</td>\n",
       "      <td>32.41132</td>\n",
       "      <td>-99.68190</td>\n",
       "    </tr>\n",
       "    <tr>\n",
       "      <th>2</th>\n",
       "      <td>ABQ</td>\n",
       "      <td>Albuquerque International Sunport</td>\n",
       "      <td>Albuquerque</td>\n",
       "      <td>NM</td>\n",
       "      <td>USA</td>\n",
       "      <td>35.04022</td>\n",
       "      <td>-106.60919</td>\n",
       "    </tr>\n",
       "    <tr>\n",
       "      <th>3</th>\n",
       "      <td>ABR</td>\n",
       "      <td>Aberdeen Regional Airport</td>\n",
       "      <td>Aberdeen</td>\n",
       "      <td>SD</td>\n",
       "      <td>USA</td>\n",
       "      <td>45.44906</td>\n",
       "      <td>-98.42183</td>\n",
       "    </tr>\n",
       "    <tr>\n",
       "      <th>4</th>\n",
       "      <td>ABY</td>\n",
       "      <td>Southwest Georgia Regional Airport</td>\n",
       "      <td>Albany</td>\n",
       "      <td>GA</td>\n",
       "      <td>USA</td>\n",
       "      <td>31.53552</td>\n",
       "      <td>-84.19447</td>\n",
       "    </tr>\n",
       "    <tr>\n",
       "      <th>5</th>\n",
       "      <td>ACK</td>\n",
       "      <td>Nantucket Memorial Airport</td>\n",
       "      <td>Nantucket</td>\n",
       "      <td>MA</td>\n",
       "      <td>USA</td>\n",
       "      <td>41.25305</td>\n",
       "      <td>-70.06018</td>\n",
       "    </tr>\n",
       "    <tr>\n",
       "      <th>6</th>\n",
       "      <td>ACT</td>\n",
       "      <td>Waco Regional Airport</td>\n",
       "      <td>Waco</td>\n",
       "      <td>TX</td>\n",
       "      <td>USA</td>\n",
       "      <td>31.61129</td>\n",
       "      <td>-97.23052</td>\n",
       "    </tr>\n",
       "    <tr>\n",
       "      <th>7</th>\n",
       "      <td>ACV</td>\n",
       "      <td>Arcata Airport</td>\n",
       "      <td>Arcata/Eureka</td>\n",
       "      <td>CA</td>\n",
       "      <td>USA</td>\n",
       "      <td>40.97812</td>\n",
       "      <td>-124.10862</td>\n",
       "    </tr>\n",
       "    <tr>\n",
       "      <th>8</th>\n",
       "      <td>ACY</td>\n",
       "      <td>Atlantic City International Airport</td>\n",
       "      <td>Atlantic City</td>\n",
       "      <td>NJ</td>\n",
       "      <td>USA</td>\n",
       "      <td>39.45758</td>\n",
       "      <td>-74.57717</td>\n",
       "    </tr>\n",
       "    <tr>\n",
       "      <th>9</th>\n",
       "      <td>ADK</td>\n",
       "      <td>Adak Airport</td>\n",
       "      <td>Adak</td>\n",
       "      <td>AK</td>\n",
       "      <td>USA</td>\n",
       "      <td>51.87796</td>\n",
       "      <td>-176.64603</td>\n",
       "    </tr>\n",
       "  </tbody>\n",
       "</table>\n",
       "</div>"
      ],
      "text/plain": [
       "  IATA_CODE                              AIRPORT           CITY STATE COUNTRY  \\\n",
       "0       ABE  Lehigh Valley International Airport      Allentown    PA     USA   \n",
       "1       ABI             Abilene Regional Airport        Abilene    TX     USA   \n",
       "2       ABQ    Albuquerque International Sunport    Albuquerque    NM     USA   \n",
       "3       ABR            Aberdeen Regional Airport       Aberdeen    SD     USA   \n",
       "4       ABY   Southwest Georgia Regional Airport         Albany    GA     USA   \n",
       "5       ACK           Nantucket Memorial Airport      Nantucket    MA     USA   \n",
       "6       ACT                Waco Regional Airport           Waco    TX     USA   \n",
       "7       ACV                       Arcata Airport  Arcata/Eureka    CA     USA   \n",
       "8       ACY  Atlantic City International Airport  Atlantic City    NJ     USA   \n",
       "9       ADK                         Adak Airport           Adak    AK     USA   \n",
       "\n",
       "   LATITUDE  LONGITUDE  \n",
       "0  40.65236  -75.44040  \n",
       "1  32.41132  -99.68190  \n",
       "2  35.04022 -106.60919  \n",
       "3  45.44906  -98.42183  \n",
       "4  31.53552  -84.19447  \n",
       "5  41.25305  -70.06018  \n",
       "6  31.61129  -97.23052  \n",
       "7  40.97812 -124.10862  \n",
       "8  39.45758  -74.57717  \n",
       "9  51.87796 -176.64603  "
      ]
     },
     "execution_count": 12,
     "metadata": {},
     "output_type": "execute_result"
    }
   ],
   "source": [
    "airport.head(10)"
   ]
  },
  {
   "cell_type": "code",
   "execution_count": 77,
   "metadata": {},
   "outputs": [
    {
     "data": {
      "text/html": [
       "<div>\n",
       "<style scoped>\n",
       "    .dataframe tbody tr th:only-of-type {\n",
       "        vertical-align: middle;\n",
       "    }\n",
       "\n",
       "    .dataframe tbody tr th {\n",
       "        vertical-align: top;\n",
       "    }\n",
       "\n",
       "    .dataframe thead th {\n",
       "        text-align: right;\n",
       "    }\n",
       "</style>\n",
       "<table border=\"1\" class=\"dataframe\">\n",
       "  <thead>\n",
       "    <tr style=\"text-align: right;\">\n",
       "      <th></th>\n",
       "      <th>IATA_CODE</th>\n",
       "      <th>AIRLINE</th>\n",
       "    </tr>\n",
       "  </thead>\n",
       "  <tbody>\n",
       "    <tr>\n",
       "      <th>0</th>\n",
       "      <td>UA</td>\n",
       "      <td>United Air Lines Inc.</td>\n",
       "    </tr>\n",
       "    <tr>\n",
       "      <th>1</th>\n",
       "      <td>AA</td>\n",
       "      <td>American Airlines Inc.</td>\n",
       "    </tr>\n",
       "    <tr>\n",
       "      <th>2</th>\n",
       "      <td>US</td>\n",
       "      <td>US Airways Inc.</td>\n",
       "    </tr>\n",
       "    <tr>\n",
       "      <th>3</th>\n",
       "      <td>F9</td>\n",
       "      <td>Frontier Airlines Inc.</td>\n",
       "    </tr>\n",
       "    <tr>\n",
       "      <th>4</th>\n",
       "      <td>B6</td>\n",
       "      <td>JetBlue Airways</td>\n",
       "    </tr>\n",
       "  </tbody>\n",
       "</table>\n",
       "</div>"
      ],
      "text/plain": [
       "  IATA_CODE                 AIRLINE\n",
       "0        UA   United Air Lines Inc.\n",
       "1        AA  American Airlines Inc.\n",
       "2        US         US Airways Inc.\n",
       "3        F9  Frontier Airlines Inc.\n",
       "4        B6         JetBlue Airways"
      ]
     },
     "execution_count": 77,
     "metadata": {},
     "output_type": "execute_result"
    }
   ],
   "source": [
    "airlines.head()"
   ]
  },
  {
   "cell_type": "code",
   "execution_count": 78,
   "metadata": {},
   "outputs": [
    {
     "data": {
      "text/plain": [
       "YEAR                    0.000\n",
       "MONTH                   0.000\n",
       "DAY                     0.000\n",
       "DAY_OF_WEEK             0.000\n",
       "AIRLINE                 0.000\n",
       "FLIGHT_NUMBER           0.000\n",
       "TAIL_NUMBER             0.251\n",
       "ORIGIN_AIRPORT          0.000\n",
       "DESTINATION_AIRPORT     0.000\n",
       "SCHEDULED_DEPARTURE     0.000\n",
       "DEPARTURE_TIME          1.433\n",
       "DEPARTURE_DELAY         1.433\n",
       "TAXI_OUT                1.481\n",
       "WHEELS_OFF              1.481\n",
       "SCHEDULED_TIME          0.000\n",
       "ELAPSED_TIME            1.738\n",
       "AIR_TIME                1.738\n",
       "DISTANCE                0.000\n",
       "WHEELS_ON               1.537\n",
       "TAXI_IN                 1.537\n",
       "SCHEDULED_ARRIVAL       0.000\n",
       "ARRIVAL_TIME            1.537\n",
       "ARRIVAL_DELAY           1.738\n",
       "DIVERTED                0.000\n",
       "CANCELLED               0.000\n",
       "CANCELLATION_REASON    98.503\n",
       "AIR_SYSTEM_DELAY       81.702\n",
       "SECURITY_DELAY         81.702\n",
       "AIRLINE_DELAY          81.702\n",
       "LATE_AIRCRAFT_DELAY    81.702\n",
       "WEATHER_DELAY          81.702\n",
       "dtype: float64"
      ]
     },
     "execution_count": 78,
     "metadata": {},
     "output_type": "execute_result"
    }
   ],
   "source": [
    "Data_NULL = data.isnull().sum()*100/data.shape[0]\n",
    "Data_NULL"
   ]
  },
  {
   "cell_type": "markdown",
   "metadata": {},
   "source": [
    "We can see that 98% of the values in Cancellation reason column are null for which it is of less use while predicting Delays. Some other columns include 81.7% in Air System Delay, Security Delay, Airline Delay, Weather Delay etc. So I am going to create two Dataset which is having no null values. First, I am removing all the null values irrespective of different types of Delays. Second, I am going to take the data set with respect to different types of delays. The first Dataset is named as Flights and the other one is named as Flight_Delays."
   ]
  },
  {
   "cell_type": "code",
   "execution_count": null,
   "metadata": {},
   "outputs": [],
   "source": [
    "# Dropping of subset of null values\n",
    "data1 = data.dropna(subset = [\"TAIL_NUMBER\",'DEPARTURE_TIME','DEPARTURE_DELAY','TAXI_OUT','WHEELS_OFF','SCHEDULED_TIME',\n",
    "             'ELAPSED_TIME','AIR_TIME','WHEELS_ON','TAXI_IN','ARRIVAL_TIME','ARRIVAL_DELAY'])"
   ]
  },
  {
   "cell_type": "code",
   "execution_count": 16,
   "metadata": {},
   "outputs": [
    {
     "data": {
      "text/plain": [
       "(98262, 31)"
      ]
     },
     "execution_count": 16,
     "metadata": {},
     "output_type": "execute_result"
    }
   ],
   "source": [
    "data1.shape"
   ]
  },
  {
   "cell_type": "markdown",
   "metadata": {},
   "source": [
    "data1.isnull().sum()"
   ]
  },
  {
   "cell_type": "code",
   "execution_count": 18,
   "metadata": {},
   "outputs": [],
   "source": [
    "# Creating Dataset with different Types of Delays\n",
    "data11 = data1.dropna(subset = ['AIR_SYSTEM_DELAY','SECURITY_DELAY','AIRLINE_DELAY','LATE_AIRCRAFT_DELAY','WEATHER_DELAY'])\n",
    "data11 = data11.drop(['YEAR','MONTH','DAY','DAY_OF_WEEK','TAIL_NUMBER','SCHEDULED_DEPARTURE','DEPARTURE_TIME','SCHEDULED_TIME',\n",
    "                     'SCHEDULED_ARRIVAL','ARRIVAL_TIME','DIVERTED','CANCELLED','CANCELLATION_REASON','FLIGHT_NUMBER','WHEELS_OFF',\n",
    "                     'WHEELS_ON','AIR_TIME'],axis = 1)"
   ]
  },
  {
   "cell_type": "code",
   "execution_count": 19,
   "metadata": {},
   "outputs": [
    {
     "name": "stdout",
     "output_type": "stream",
     "text": [
      "<class 'pandas.core.frame.DataFrame'>\n",
      "Int64Index: 18298 entries, 2835037 to 692726\n",
      "Data columns (total 14 columns):\n",
      " #   Column               Non-Null Count  Dtype  \n",
      "---  ------               --------------  -----  \n",
      " 0   AIRLINE              18298 non-null  object \n",
      " 1   ORIGIN_AIRPORT       18298 non-null  object \n",
      " 2   DESTINATION_AIRPORT  18298 non-null  object \n",
      " 3   DEPARTURE_DELAY      18298 non-null  float64\n",
      " 4   TAXI_OUT             18298 non-null  float64\n",
      " 5   ELAPSED_TIME         18298 non-null  float64\n",
      " 6   DISTANCE             18298 non-null  int64  \n",
      " 7   TAXI_IN              18298 non-null  float64\n",
      " 8   ARRIVAL_DELAY        18298 non-null  float64\n",
      " 9   AIR_SYSTEM_DELAY     18298 non-null  float64\n",
      " 10  SECURITY_DELAY       18298 non-null  float64\n",
      " 11  AIRLINE_DELAY        18298 non-null  float64\n",
      " 12  LATE_AIRCRAFT_DELAY  18298 non-null  float64\n",
      " 13  WEATHER_DELAY        18298 non-null  float64\n",
      "dtypes: float64(10), int64(1), object(3)\n",
      "memory usage: 2.1+ MB\n"
     ]
    }
   ],
   "source": [
    "data11.info()"
   ]
  },
  {
   "cell_type": "code",
   "execution_count": 20,
   "metadata": {},
   "outputs": [],
   "source": [
    "# The other Dataset\n",
    "Flight_Delays = data11"
   ]
  },
  {
   "cell_type": "code",
   "execution_count": 21,
   "metadata": {},
   "outputs": [],
   "source": [
    "# Creating Dataset by removing null values by not focussing fully on different types of Delays\n",
    "data2 = data1.drop(['CANCELLATION_REASON','AIR_SYSTEM_DELAY','SECURITY_DELAY','AIRLINE_DELAY',\n",
    "                    'LATE_AIRCRAFT_DELAY','WEATHER_DELAY'],axis = 1)"
   ]
  },
  {
   "cell_type": "code",
   "execution_count": 22,
   "metadata": {},
   "outputs": [
    {
     "data": {
      "text/plain": [
       "YEAR                   0\n",
       "MONTH                  0\n",
       "DAY                    0\n",
       "DAY_OF_WEEK            0\n",
       "AIRLINE                0\n",
       "FLIGHT_NUMBER          0\n",
       "TAIL_NUMBER            0\n",
       "ORIGIN_AIRPORT         0\n",
       "DESTINATION_AIRPORT    0\n",
       "SCHEDULED_DEPARTURE    0\n",
       "DEPARTURE_TIME         0\n",
       "DEPARTURE_DELAY        0\n",
       "TAXI_OUT               0\n",
       "WHEELS_OFF             0\n",
       "SCHEDULED_TIME         0\n",
       "ELAPSED_TIME           0\n",
       "AIR_TIME               0\n",
       "DISTANCE               0\n",
       "WHEELS_ON              0\n",
       "TAXI_IN                0\n",
       "SCHEDULED_ARRIVAL      0\n",
       "ARRIVAL_TIME           0\n",
       "ARRIVAL_DELAY          0\n",
       "DIVERTED               0\n",
       "CANCELLED              0\n",
       "dtype: int64"
      ]
     },
     "execution_count": 22,
     "metadata": {},
     "output_type": "execute_result"
    }
   ],
   "source": [
    "data2.isnull().sum()"
   ]
  },
  {
   "cell_type": "code",
   "execution_count": 23,
   "metadata": {},
   "outputs": [
    {
     "data": {
      "text/plain": [
       "(98262, 25)"
      ]
     },
     "execution_count": 23,
     "metadata": {},
     "output_type": "execute_result"
    }
   ],
   "source": [
    "data2.shape"
   ]
  },
  {
   "cell_type": "code",
   "execution_count": 24,
   "metadata": {},
   "outputs": [
    {
     "name": "stdout",
     "output_type": "stream",
     "text": [
      "<class 'pandas.core.frame.DataFrame'>\n",
      "Int64Index: 98262 entries, 3897267 to 692726\n",
      "Data columns (total 25 columns):\n",
      " #   Column               Non-Null Count  Dtype  \n",
      "---  ------               --------------  -----  \n",
      " 0   YEAR                 98262 non-null  int64  \n",
      " 1   MONTH                98262 non-null  int64  \n",
      " 2   DAY                  98262 non-null  int64  \n",
      " 3   DAY_OF_WEEK          98262 non-null  int64  \n",
      " 4   AIRLINE              98262 non-null  object \n",
      " 5   FLIGHT_NUMBER        98262 non-null  int64  \n",
      " 6   TAIL_NUMBER          98262 non-null  object \n",
      " 7   ORIGIN_AIRPORT       98262 non-null  object \n",
      " 8   DESTINATION_AIRPORT  98262 non-null  object \n",
      " 9   SCHEDULED_DEPARTURE  98262 non-null  int64  \n",
      " 10  DEPARTURE_TIME       98262 non-null  float64\n",
      " 11  DEPARTURE_DELAY      98262 non-null  float64\n",
      " 12  TAXI_OUT             98262 non-null  float64\n",
      " 13  WHEELS_OFF           98262 non-null  float64\n",
      " 14  SCHEDULED_TIME       98262 non-null  float64\n",
      " 15  ELAPSED_TIME         98262 non-null  float64\n",
      " 16  AIR_TIME             98262 non-null  float64\n",
      " 17  DISTANCE             98262 non-null  int64  \n",
      " 18  WHEELS_ON            98262 non-null  float64\n",
      " 19  TAXI_IN              98262 non-null  float64\n",
      " 20  SCHEDULED_ARRIVAL    98262 non-null  int64  \n",
      " 21  ARRIVAL_TIME         98262 non-null  float64\n",
      " 22  ARRIVAL_DELAY        98262 non-null  float64\n",
      " 23  DIVERTED             98262 non-null  int64  \n",
      " 24  CANCELLED            98262 non-null  int64  \n",
      "dtypes: float64(11), int64(10), object(4)\n",
      "memory usage: 19.5+ MB\n"
     ]
    }
   ],
   "source": [
    "data2.info()"
   ]
  },
  {
   "cell_type": "markdown",
   "metadata": {},
   "source": [
    "Data has only float and integer values\n",
    "No variable column has null/missing values"
   ]
  },
  {
   "cell_type": "code",
   "execution_count": 25,
   "metadata": {},
   "outputs": [
    {
     "data": {
      "text/plain": [
       "0"
      ]
     },
     "execution_count": 25,
     "metadata": {},
     "output_type": "execute_result"
    }
   ],
   "source": [
    "data2.DEPARTURE_TIME.isnull().sum()"
   ]
  },
  {
   "cell_type": "code",
   "execution_count": 26,
   "metadata": {},
   "outputs": [
    {
     "data": {
      "text/plain": [
       "count    98262.000000\n",
       "mean      1335.831298\n",
       "std        496.653559\n",
       "min          1.000000\n",
       "25%        922.000000\n",
       "50%       1331.000000\n",
       "75%       1740.000000\n",
       "max       2400.000000\n",
       "Name: DEPARTURE_TIME, dtype: float64"
      ]
     },
     "execution_count": 26,
     "metadata": {},
     "output_type": "execute_result"
    }
   ],
   "source": [
    "data2.DEPARTURE_TIME.describe()"
   ]
  },
  {
   "cell_type": "code",
   "execution_count": 27,
   "metadata": {},
   "outputs": [
    {
     "data": {
      "text/plain": [
       "count    98262.000000\n",
       "mean      1335.831298\n",
       "std        496.653559\n",
       "min          1.000000\n",
       "25%        922.000000\n",
       "50%       1331.000000\n",
       "75%       1740.000000\n",
       "max       2400.000000\n",
       "Name: DEPARTURE_TIME, dtype: float64"
      ]
     },
     "execution_count": 27,
     "metadata": {},
     "output_type": "execute_result"
    }
   ],
   "source": [
    "data2.DEPARTURE_TIME.describe()"
   ]
  },
  {
   "cell_type": "markdown",
   "metadata": {},
   "source": [
    "###   \n",
    "The departure time above is not very much informative so i am going to change it in the datetime format so that we get a better idea of the time."
   ]
  },
  {
   "cell_type": "code",
   "execution_count": 28,
   "metadata": {},
   "outputs": [],
   "source": [
    "# Creating a function to change the way of representation of time in the column\n",
    "def Format_Hourmin(hours):\n",
    "        if hours == 2400:\n",
    "            hours = 0\n",
    "        else:\n",
    "            hours = \"{0:04d}\".format(int(hours))\n",
    "            Hourmin = datetime.time(int(hours[0:2]), int(hours[2:4]))\n",
    "            return Hourmin"
   ]
  },
  {
   "cell_type": "code",
   "execution_count": 29,
   "metadata": {},
   "outputs": [],
   "source": [
    "data2['Actual_Departure'] =data1['DEPARTURE_TIME'].apply(Format_Hourmin)\n"
   ]
  },
  {
   "cell_type": "code",
   "execution_count": 30,
   "metadata": {},
   "outputs": [
    {
     "data": {
      "text/plain": [
       "Index(['YEAR', 'MONTH', 'DAY', 'DAY_OF_WEEK', 'AIRLINE', 'FLIGHT_NUMBER',\n",
       "       'TAIL_NUMBER', 'ORIGIN_AIRPORT', 'DESTINATION_AIRPORT',\n",
       "       'SCHEDULED_DEPARTURE', 'DEPARTURE_TIME', 'DEPARTURE_DELAY', 'TAXI_OUT',\n",
       "       'WHEELS_OFF', 'SCHEDULED_TIME', 'ELAPSED_TIME', 'AIR_TIME', 'DISTANCE',\n",
       "       'WHEELS_ON', 'TAXI_IN', 'SCHEDULED_ARRIVAL', 'ARRIVAL_TIME',\n",
       "       'ARRIVAL_DELAY', 'DIVERTED', 'CANCELLED', 'Actual_Departure'],\n",
       "      dtype='object')"
      ]
     },
     "execution_count": 30,
     "metadata": {},
     "output_type": "execute_result"
    }
   ],
   "source": [
    "data2.columns"
   ]
  },
  {
   "cell_type": "code",
   "execution_count": 31,
   "metadata": {},
   "outputs": [],
   "source": [
    "# Creating Date in the Datetime format\n",
    "data2['Date'] = pd.to_datetime(data2[['YEAR','MONTH','DAY']])\n"
   ]
  },
  {
   "cell_type": "code",
   "execution_count": 32,
   "metadata": {},
   "outputs": [],
   "source": [
    "data2['Day'] = data2['Date']"
   ]
  },
  {
   "cell_type": "code",
   "execution_count": 33,
   "metadata": {},
   "outputs": [],
   "source": [
    "# Applying the function to required variables in the dataset\n",
    "data2['Actual_Departure'] =data1['DEPARTURE_TIME'].apply(Format_Hourmin)\n",
    "data2['Scheduled_Arrival'] =data1['SCHEDULED_ARRIVAL'].apply(Format_Hourmin)\n",
    "data2['Scheduled_Departure'] =data1['SCHEDULED_DEPARTURE'].apply(Format_Hourmin)\n",
    "data2['Actual_Arrival'] =data1['ARRIVAL_TIME'].apply(Format_Hourmin)"
   ]
  },
  {
   "cell_type": "markdown",
   "metadata": {},
   "source": [
    "# Merging of  3 data sets"
   ]
  },
  {
   "cell_type": "markdown",
   "metadata": {},
   "source": [
    "Since there are three dataset it is required to merge all the three data set so that we can use it during the visualization in a proper way."
   ]
  },
  {
   "cell_type": "code",
   "execution_count": 34,
   "metadata": {},
   "outputs": [],
   "source": [
    "# Merging on AIRLINE and IATA_CODE\n",
    "data2 = data2.merge(airlines, left_on='AIRLINE', right_on='IATA_CODE', how='inner')"
   ]
  },
  {
   "cell_type": "code",
   "execution_count": 35,
   "metadata": {},
   "outputs": [],
   "source": [
    "data2 = data2.drop(['AIRLINE_x','IATA_CODE'], axis=1)"
   ]
  },
  {
   "cell_type": "code",
   "execution_count": 36,
   "metadata": {},
   "outputs": [],
   "source": [
    "data2 = data2.rename(columns={\"AIRLINE_y\":\"AIRLINE\"})"
   ]
  },
  {
   "cell_type": "code",
   "execution_count": 37,
   "metadata": {},
   "outputs": [],
   "source": [
    "data2 = data2.merge(airport, left_on='ORIGIN_AIRPORT', right_on='IATA_CODE', how='inner')\n",
    "data2 = data2.merge(airport, left_on='DESTINATION_AIRPORT', right_on='IATA_CODE', how='inner')"
   ]
  },
  {
   "cell_type": "code",
   "execution_count": 38,
   "metadata": {},
   "outputs": [
    {
     "data": {
      "text/plain": [
       "Index(['YEAR', 'MONTH', 'DAY', 'DAY_OF_WEEK', 'FLIGHT_NUMBER', 'TAIL_NUMBER',\n",
       "       'ORIGIN_AIRPORT', 'DESTINATION_AIRPORT', 'SCHEDULED_DEPARTURE',\n",
       "       'DEPARTURE_TIME', 'DEPARTURE_DELAY', 'TAXI_OUT', 'WHEELS_OFF',\n",
       "       'SCHEDULED_TIME', 'ELAPSED_TIME', 'AIR_TIME', 'DISTANCE', 'WHEELS_ON',\n",
       "       'TAXI_IN', 'SCHEDULED_ARRIVAL', 'ARRIVAL_TIME', 'ARRIVAL_DELAY',\n",
       "       'DIVERTED', 'CANCELLED', 'Actual_Departure', 'Date', 'Day',\n",
       "       'Scheduled_Arrival', 'Scheduled_Departure', 'Actual_Arrival', 'AIRLINE',\n",
       "       'IATA_CODE_x', 'AIRPORT_x', 'CITY_x', 'STATE_x', 'COUNTRY_x',\n",
       "       'LATITUDE_x', 'LONGITUDE_x', 'IATA_CODE_y', 'AIRPORT_y', 'CITY_y',\n",
       "       'STATE_y', 'COUNTRY_y', 'LATITUDE_y', 'LONGITUDE_y'],\n",
       "      dtype='object')"
      ]
     },
     "execution_count": 38,
     "metadata": {},
     "output_type": "execute_result"
    }
   ],
   "source": [
    "data2.columns"
   ]
  },
  {
   "cell_type": "code",
   "execution_count": 39,
   "metadata": {},
   "outputs": [],
   "source": [
    "data2 = data2.drop(['LATITUDE_x', 'LONGITUDE_x',\n",
    "       'STATE_y', 'COUNTRY_y', 'LATITUDE_y', 'LONGITUDE_y','STATE_x', 'COUNTRY_x'], axis=1)"
   ]
  },
  {
   "cell_type": "code",
   "execution_count": 40,
   "metadata": {},
   "outputs": [],
   "source": [
    "data2 = data2.rename(columns={'IATA_CODE_x':'Org_Airport_Code','AIRPORT_x':'Org_Airport_Name','CITY_x':'Origin_city',\n",
    "                             'IATA_CODE_y':'Dest_Airport_Code','AIRPORT_y':'Dest_Airport_Name','CITY_y':'Destination_city'})"
   ]
  },
  {
   "cell_type": "code",
   "execution_count": 41,
   "metadata": {},
   "outputs": [
    {
     "data": {
      "text/html": [
       "<div>\n",
       "<style scoped>\n",
       "    .dataframe tbody tr th:only-of-type {\n",
       "        vertical-align: middle;\n",
       "    }\n",
       "\n",
       "    .dataframe tbody tr th {\n",
       "        vertical-align: top;\n",
       "    }\n",
       "\n",
       "    .dataframe thead th {\n",
       "        text-align: right;\n",
       "    }\n",
       "</style>\n",
       "<table border=\"1\" class=\"dataframe\">\n",
       "  <thead>\n",
       "    <tr style=\"text-align: right;\">\n",
       "      <th></th>\n",
       "      <th>YEAR</th>\n",
       "      <th>MONTH</th>\n",
       "      <th>DAY</th>\n",
       "      <th>DAY_OF_WEEK</th>\n",
       "      <th>FLIGHT_NUMBER</th>\n",
       "      <th>TAIL_NUMBER</th>\n",
       "      <th>ORIGIN_AIRPORT</th>\n",
       "      <th>DESTINATION_AIRPORT</th>\n",
       "      <th>SCHEDULED_DEPARTURE</th>\n",
       "      <th>DEPARTURE_TIME</th>\n",
       "      <th>...</th>\n",
       "      <th>Scheduled_Arrival</th>\n",
       "      <th>Scheduled_Departure</th>\n",
       "      <th>Actual_Arrival</th>\n",
       "      <th>AIRLINE</th>\n",
       "      <th>Org_Airport_Code</th>\n",
       "      <th>Org_Airport_Name</th>\n",
       "      <th>Origin_city</th>\n",
       "      <th>Dest_Airport_Code</th>\n",
       "      <th>Dest_Airport_Name</th>\n",
       "      <th>Destination_city</th>\n",
       "    </tr>\n",
       "  </thead>\n",
       "  <tbody>\n",
       "    <tr>\n",
       "      <th>0</th>\n",
       "      <td>2015</td>\n",
       "      <td>8</td>\n",
       "      <td>30</td>\n",
       "      <td>7</td>\n",
       "      <td>772</td>\n",
       "      <td>N200UU</td>\n",
       "      <td>SJU</td>\n",
       "      <td>PHL</td>\n",
       "      <td>1510</td>\n",
       "      <td>1505.0</td>\n",
       "      <td>...</td>\n",
       "      <td>19:03:00</td>\n",
       "      <td>15:10:00</td>\n",
       "      <td>18:53:00</td>\n",
       "      <td>American Airlines Inc.</td>\n",
       "      <td>SJU</td>\n",
       "      <td>Luis Muñoz Marín International Airport</td>\n",
       "      <td>San Juan</td>\n",
       "      <td>PHL</td>\n",
       "      <td>Philadelphia International Airport</td>\n",
       "      <td>Philadelphia</td>\n",
       "    </tr>\n",
       "    <tr>\n",
       "      <th>1</th>\n",
       "      <td>2015</td>\n",
       "      <td>7</td>\n",
       "      <td>31</td>\n",
       "      <td>5</td>\n",
       "      <td>678</td>\n",
       "      <td>N201UU</td>\n",
       "      <td>SJU</td>\n",
       "      <td>PHL</td>\n",
       "      <td>1248</td>\n",
       "      <td>1251.0</td>\n",
       "      <td>...</td>\n",
       "      <td>16:50:00</td>\n",
       "      <td>12:48:00</td>\n",
       "      <td>16:34:00</td>\n",
       "      <td>American Airlines Inc.</td>\n",
       "      <td>SJU</td>\n",
       "      <td>Luis Muñoz Marín International Airport</td>\n",
       "      <td>San Juan</td>\n",
       "      <td>PHL</td>\n",
       "      <td>Philadelphia International Airport</td>\n",
       "      <td>Philadelphia</td>\n",
       "    </tr>\n",
       "    <tr>\n",
       "      <th>2</th>\n",
       "      <td>2015</td>\n",
       "      <td>8</td>\n",
       "      <td>9</td>\n",
       "      <td>7</td>\n",
       "      <td>2007</td>\n",
       "      <td>N102UW</td>\n",
       "      <td>SJU</td>\n",
       "      <td>PHL</td>\n",
       "      <td>1820</td>\n",
       "      <td>1828.0</td>\n",
       "      <td>...</td>\n",
       "      <td>22:15:00</td>\n",
       "      <td>18:20:00</td>\n",
       "      <td>22:07:00</td>\n",
       "      <td>American Airlines Inc.</td>\n",
       "      <td>SJU</td>\n",
       "      <td>Luis Muñoz Marín International Airport</td>\n",
       "      <td>San Juan</td>\n",
       "      <td>PHL</td>\n",
       "      <td>Philadelphia International Airport</td>\n",
       "      <td>Philadelphia</td>\n",
       "    </tr>\n",
       "    <tr>\n",
       "      <th>3</th>\n",
       "      <td>2015</td>\n",
       "      <td>12</td>\n",
       "      <td>25</td>\n",
       "      <td>5</td>\n",
       "      <td>748</td>\n",
       "      <td>N971UY</td>\n",
       "      <td>SJU</td>\n",
       "      <td>PHL</td>\n",
       "      <td>530</td>\n",
       "      <td>526.0</td>\n",
       "      <td>...</td>\n",
       "      <td>08:33:00</td>\n",
       "      <td>05:30:00</td>\n",
       "      <td>08:23:00</td>\n",
       "      <td>American Airlines Inc.</td>\n",
       "      <td>SJU</td>\n",
       "      <td>Luis Muñoz Marín International Airport</td>\n",
       "      <td>San Juan</td>\n",
       "      <td>PHL</td>\n",
       "      <td>Philadelphia International Airport</td>\n",
       "      <td>Philadelphia</td>\n",
       "    </tr>\n",
       "    <tr>\n",
       "      <th>4</th>\n",
       "      <td>2015</td>\n",
       "      <td>12</td>\n",
       "      <td>18</td>\n",
       "      <td>5</td>\n",
       "      <td>838</td>\n",
       "      <td>N203UW</td>\n",
       "      <td>SJU</td>\n",
       "      <td>PHL</td>\n",
       "      <td>1815</td>\n",
       "      <td>1809.0</td>\n",
       "      <td>...</td>\n",
       "      <td>21:14:00</td>\n",
       "      <td>18:15:00</td>\n",
       "      <td>21:02:00</td>\n",
       "      <td>American Airlines Inc.</td>\n",
       "      <td>SJU</td>\n",
       "      <td>Luis Muñoz Marín International Airport</td>\n",
       "      <td>San Juan</td>\n",
       "      <td>PHL</td>\n",
       "      <td>Philadelphia International Airport</td>\n",
       "      <td>Philadelphia</td>\n",
       "    </tr>\n",
       "  </tbody>\n",
       "</table>\n",
       "<p>5 rows × 37 columns</p>\n",
       "</div>"
      ],
      "text/plain": [
       "   YEAR  MONTH  DAY  DAY_OF_WEEK  FLIGHT_NUMBER TAIL_NUMBER ORIGIN_AIRPORT  \\\n",
       "0  2015      8   30            7            772      N200UU            SJU   \n",
       "1  2015      7   31            5            678      N201UU            SJU   \n",
       "2  2015      8    9            7           2007      N102UW            SJU   \n",
       "3  2015     12   25            5            748      N971UY            SJU   \n",
       "4  2015     12   18            5            838      N203UW            SJU   \n",
       "\n",
       "  DESTINATION_AIRPORT  SCHEDULED_DEPARTURE  DEPARTURE_TIME  ...  \\\n",
       "0                 PHL                 1510          1505.0  ...   \n",
       "1                 PHL                 1248          1251.0  ...   \n",
       "2                 PHL                 1820          1828.0  ...   \n",
       "3                 PHL                  530           526.0  ...   \n",
       "4                 PHL                 1815          1809.0  ...   \n",
       "\n",
       "   Scheduled_Arrival  Scheduled_Departure  Actual_Arrival  \\\n",
       "0           19:03:00             15:10:00        18:53:00   \n",
       "1           16:50:00             12:48:00        16:34:00   \n",
       "2           22:15:00             18:20:00        22:07:00   \n",
       "3           08:33:00             05:30:00        08:23:00   \n",
       "4           21:14:00             18:15:00        21:02:00   \n",
       "\n",
       "                  AIRLINE  Org_Airport_Code  \\\n",
       "0  American Airlines Inc.               SJU   \n",
       "1  American Airlines Inc.               SJU   \n",
       "2  American Airlines Inc.               SJU   \n",
       "3  American Airlines Inc.               SJU   \n",
       "4  American Airlines Inc.               SJU   \n",
       "\n",
       "                         Org_Airport_Name  Origin_city  Dest_Airport_Code  \\\n",
       "0  Luis Muñoz Marín International Airport     San Juan                PHL   \n",
       "1  Luis Muñoz Marín International Airport     San Juan                PHL   \n",
       "2  Luis Muñoz Marín International Airport     San Juan                PHL   \n",
       "3  Luis Muñoz Marín International Airport     San Juan                PHL   \n",
       "4  Luis Muñoz Marín International Airport     San Juan                PHL   \n",
       "\n",
       "                    Dest_Airport_Name  Destination_city  \n",
       "0  Philadelphia International Airport      Philadelphia  \n",
       "1  Philadelphia International Airport      Philadelphia  \n",
       "2  Philadelphia International Airport      Philadelphia  \n",
       "3  Philadelphia International Airport      Philadelphia  \n",
       "4  Philadelphia International Airport      Philadelphia  \n",
       "\n",
       "[5 rows x 37 columns]"
      ]
     },
     "execution_count": 41,
     "metadata": {},
     "output_type": "execute_result"
    }
   ],
   "source": [
    "data2.head()"
   ]
  },
  {
   "cell_type": "code",
   "execution_count": 42,
   "metadata": {},
   "outputs": [],
   "source": [
    "# I am taking the required data into Account for visualization and the Analysis\n",
    "ReqdData = pd.DataFrame(data2[['AIRLINE','Org_Airport_Name','Origin_city',\n",
    "                               'Dest_Airport_Name','Destination_city','ORIGIN_AIRPORT',\n",
    "                               'DESTINATION_AIRPORT','DISTANCE','Actual_Departure','Date','Day',\n",
    "                               'Scheduled_Departure','DEPARTURE_DELAY','Actual_Arrival','Scheduled_Arrival','ARRIVAL_DELAY',\n",
    "                              'SCHEDULED_TIME','ELAPSED_TIME','AIR_TIME','TAXI_IN','TAXI_OUT','DIVERTED',]])"
   ]
  },
  {
   "cell_type": "code",
   "execution_count": 43,
   "metadata": {},
   "outputs": [],
   "source": [
    "ReqdData = ReqdData.dropna(subset = ['Actual_Departure','Actual_Arrival'])"
   ]
  },
  {
   "cell_type": "code",
   "execution_count": 44,
   "metadata": {},
   "outputs": [
    {
     "data": {
      "text/html": [
       "<div>\n",
       "<style scoped>\n",
       "    .dataframe tbody tr th:only-of-type {\n",
       "        vertical-align: middle;\n",
       "    }\n",
       "\n",
       "    .dataframe tbody tr th {\n",
       "        vertical-align: top;\n",
       "    }\n",
       "\n",
       "    .dataframe thead th {\n",
       "        text-align: right;\n",
       "    }\n",
       "</style>\n",
       "<table border=\"1\" class=\"dataframe\">\n",
       "  <thead>\n",
       "    <tr style=\"text-align: right;\">\n",
       "      <th></th>\n",
       "      <th>DISTANCE</th>\n",
       "      <th>DEPARTURE_DELAY</th>\n",
       "      <th>ARRIVAL_DELAY</th>\n",
       "      <th>SCHEDULED_TIME</th>\n",
       "      <th>ELAPSED_TIME</th>\n",
       "      <th>AIR_TIME</th>\n",
       "      <th>TAXI_IN</th>\n",
       "      <th>TAXI_OUT</th>\n",
       "      <th>DIVERTED</th>\n",
       "    </tr>\n",
       "  </thead>\n",
       "  <tbody>\n",
       "    <tr>\n",
       "      <th>count</th>\n",
       "      <td>89719.000000</td>\n",
       "      <td>89719.000000</td>\n",
       "      <td>89719.000000</td>\n",
       "      <td>89719.000000</td>\n",
       "      <td>89719.000000</td>\n",
       "      <td>89719.000000</td>\n",
       "      <td>89719.000000</td>\n",
       "      <td>89719.000000</td>\n",
       "      <td>89719.0</td>\n",
       "    </tr>\n",
       "    <tr>\n",
       "      <th>mean</th>\n",
       "      <td>824.982178</td>\n",
       "      <td>9.727037</td>\n",
       "      <td>4.922079</td>\n",
       "      <td>142.045163</td>\n",
       "      <td>137.240206</td>\n",
       "      <td>113.681662</td>\n",
       "      <td>7.411362</td>\n",
       "      <td>16.147182</td>\n",
       "      <td>0.0</td>\n",
       "    </tr>\n",
       "    <tr>\n",
       "      <th>std</th>\n",
       "      <td>610.061474</td>\n",
       "      <td>37.030728</td>\n",
       "      <td>39.446895</td>\n",
       "      <td>75.521339</td>\n",
       "      <td>74.402763</td>\n",
       "      <td>72.456171</td>\n",
       "      <td>5.492555</td>\n",
       "      <td>9.133863</td>\n",
       "      <td>0.0</td>\n",
       "    </tr>\n",
       "    <tr>\n",
       "      <th>min</th>\n",
       "      <td>31.000000</td>\n",
       "      <td>-29.000000</td>\n",
       "      <td>-74.000000</td>\n",
       "      <td>21.000000</td>\n",
       "      <td>22.000000</td>\n",
       "      <td>8.000000</td>\n",
       "      <td>1.000000</td>\n",
       "      <td>1.000000</td>\n",
       "      <td>0.0</td>\n",
       "    </tr>\n",
       "    <tr>\n",
       "      <th>25%</th>\n",
       "      <td>373.000000</td>\n",
       "      <td>-5.000000</td>\n",
       "      <td>-13.000000</td>\n",
       "      <td>86.000000</td>\n",
       "      <td>82.000000</td>\n",
       "      <td>60.000000</td>\n",
       "      <td>4.000000</td>\n",
       "      <td>11.000000</td>\n",
       "      <td>0.0</td>\n",
       "    </tr>\n",
       "    <tr>\n",
       "      <th>50%</th>\n",
       "      <td>650.000000</td>\n",
       "      <td>-1.000000</td>\n",
       "      <td>-5.000000</td>\n",
       "      <td>123.000000</td>\n",
       "      <td>119.000000</td>\n",
       "      <td>94.000000</td>\n",
       "      <td>6.000000</td>\n",
       "      <td>14.000000</td>\n",
       "      <td>0.0</td>\n",
       "    </tr>\n",
       "    <tr>\n",
       "      <th>75%</th>\n",
       "      <td>1066.000000</td>\n",
       "      <td>8.000000</td>\n",
       "      <td>8.000000</td>\n",
       "      <td>174.000000</td>\n",
       "      <td>168.000000</td>\n",
       "      <td>144.000000</td>\n",
       "      <td>9.000000</td>\n",
       "      <td>19.000000</td>\n",
       "      <td>0.0</td>\n",
       "    </tr>\n",
       "    <tr>\n",
       "      <th>max</th>\n",
       "      <td>4983.000000</td>\n",
       "      <td>1076.000000</td>\n",
       "      <td>1090.000000</td>\n",
       "      <td>718.000000</td>\n",
       "      <td>709.000000</td>\n",
       "      <td>678.000000</td>\n",
       "      <td>174.000000</td>\n",
       "      <td>180.000000</td>\n",
       "      <td>0.0</td>\n",
       "    </tr>\n",
       "  </tbody>\n",
       "</table>\n",
       "</div>"
      ],
      "text/plain": [
       "           DISTANCE  DEPARTURE_DELAY  ARRIVAL_DELAY  SCHEDULED_TIME  \\\n",
       "count  89719.000000     89719.000000   89719.000000    89719.000000   \n",
       "mean     824.982178         9.727037       4.922079      142.045163   \n",
       "std      610.061474        37.030728      39.446895       75.521339   \n",
       "min       31.000000       -29.000000     -74.000000       21.000000   \n",
       "25%      373.000000        -5.000000     -13.000000       86.000000   \n",
       "50%      650.000000        -1.000000      -5.000000      123.000000   \n",
       "75%     1066.000000         8.000000       8.000000      174.000000   \n",
       "max     4983.000000      1076.000000    1090.000000      718.000000   \n",
       "\n",
       "       ELAPSED_TIME      AIR_TIME       TAXI_IN      TAXI_OUT  DIVERTED  \n",
       "count  89719.000000  89719.000000  89719.000000  89719.000000   89719.0  \n",
       "mean     137.240206    113.681662      7.411362     16.147182       0.0  \n",
       "std       74.402763     72.456171      5.492555      9.133863       0.0  \n",
       "min       22.000000      8.000000      1.000000      1.000000       0.0  \n",
       "25%       82.000000     60.000000      4.000000     11.000000       0.0  \n",
       "50%      119.000000     94.000000      6.000000     14.000000       0.0  \n",
       "75%      168.000000    144.000000      9.000000     19.000000       0.0  \n",
       "max      709.000000    678.000000    174.000000    180.000000       0.0  "
      ]
     },
     "execution_count": 44,
     "metadata": {},
     "output_type": "execute_result"
    }
   ],
   "source": [
    "# Cleaned Dataset for visualization and Analysis\n",
    "Flights = ReqdData\n",
    "Flights.describe()"
   ]
  },
  {
   "cell_type": "code",
   "execution_count": 45,
   "metadata": {},
   "outputs": [],
   "source": [
    "import matplotlib.pyplot as plt"
   ]
  },
  {
   "cell_type": "code",
   "execution_count": 46,
   "metadata": {},
   "outputs": [
    {
     "data": {
      "text/plain": [
       "(array([1]), <a list of 1 Text xticklabel objects>)"
      ]
     },
     "execution_count": 46,
     "metadata": {},
     "output_type": "execute_result"
    },
    {
     "data": {
      "image/png": "[encoded data removed]",
      "text/plain": [
       "<Figure size 432x288 with 1 Axes>"
      ]
     },
     "metadata": {
      "needs_background": "light"
     },
     "output_type": "display_data"
    }
   ],
   "source": [
    "Flights[Flights.DEPARTURE_DELAY >0].boxplot(column=[\"DEPARTURE_DELAY\"]).set_yscale('log')\n",
    "plt.xticks(rotation=90, ha='right')\n"
   ]
  },
  {
   "cell_type": "markdown",
   "metadata": {},
   "source": [
    "### Checking for Outliers Using a box plot"
   ]
  },
  {
   "cell_type": "markdown",
   "metadata": {},
   "source": [
    "The box plot shows that there is an outlier between 10^2 &10^3\n"
   ]
  },
  {
   "cell_type": "markdown",
   "metadata": {},
   "source": [
    "An outlier is a data point in a data set that is distant from all other observation."
   ]
  },
  {
   "cell_type": "markdown",
   "metadata": {},
   "source": [
    "### Handling outlier"
   ]
  },
  {
   "cell_type": "code",
   "execution_count": null,
   "metadata": {},
   "outputs": [],
   "source": [
    "data = data[data[‘hp’]< Upper_Whisker]"
   ]
  },
  {
   "cell_type": "markdown",
   "metadata": {},
   "source": [
    "###  I can also use the Z-Score Method to handle the outlier."
   ]
  }
 ],
 "metadata": {
  "kernelspec": {
   "display_name": "Python 3",
   "language": "python",
   "name": "python3"
  },
  "language_info": {
   "codemirror_mode": {
    "name": "ipython",
    "version": 3
   },
   "file_extension": ".py",
   "mimetype": "text/x-python",
   "name": "python",
   "nbconvert_exporter": "python",
   "pygments_lexer": "ipython3",
   "version": "3.7.6"
  }
 },
 "nbformat": 4,
 "nbformat_minor": 4
}
